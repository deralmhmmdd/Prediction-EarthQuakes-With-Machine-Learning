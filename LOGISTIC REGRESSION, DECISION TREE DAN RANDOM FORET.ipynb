{
 "cells": [
  {
   "cell_type": "code",
   "execution_count": 466,
   "id": "9798bdfb",
   "metadata": {
    "scrolled": false
   },
   "outputs": [
    {
     "data": {
      "text/html": [
       "<div>\n",
       "<style scoped>\n",
       "    .dataframe tbody tr th:only-of-type {\n",
       "        vertical-align: middle;\n",
       "    }\n",
       "\n",
       "    .dataframe tbody tr th {\n",
       "        vertical-align: top;\n",
       "    }\n",
       "\n",
       "    .dataframe thead th {\n",
       "        text-align: right;\n",
       "    }\n",
       "</style>\n",
       "<table border=\"1\" class=\"dataframe\">\n",
       "  <thead>\n",
       "    <tr style=\"text-align: right;\">\n",
       "      <th></th>\n",
       "      <th>Day</th>\n",
       "      <th>Month</th>\n",
       "      <th>Years</th>\n",
       "      <th>Latitude</th>\n",
       "      <th>Longitude</th>\n",
       "      <th>Depth</th>\n",
       "      <th>Mag</th>\n",
       "      <th>Place</th>\n",
       "      <th>Jam</th>\n",
       "      <th>Menit</th>\n",
       "      <th>Detik</th>\n",
       "    </tr>\n",
       "  </thead>\n",
       "  <tbody>\n",
       "    <tr>\n",
       "      <th>0</th>\n",
       "      <td>4</td>\n",
       "      <td>10</td>\n",
       "      <td>2022</td>\n",
       "      <td>-4.9967</td>\n",
       "      <td>104.2793</td>\n",
       "      <td>112.997</td>\n",
       "      <td>4.40</td>\n",
       "      <td>Kotabumi</td>\n",
       "      <td>20</td>\n",
       "      <td>14</td>\n",
       "      <td>43</td>\n",
       "    </tr>\n",
       "    <tr>\n",
       "      <th>1</th>\n",
       "      <td>1</td>\n",
       "      <td>10</td>\n",
       "      <td>2022</td>\n",
       "      <td>-3.8325</td>\n",
       "      <td>101.8353</td>\n",
       "      <td>60.652</td>\n",
       "      <td>4.90</td>\n",
       "      <td>Bengkulu</td>\n",
       "      <td>13</td>\n",
       "      <td>50</td>\n",
       "      <td>16</td>\n",
       "    </tr>\n",
       "    <tr>\n",
       "      <th>2</th>\n",
       "      <td>29</td>\n",
       "      <td>9</td>\n",
       "      <td>2022</td>\n",
       "      <td>-5.4541</td>\n",
       "      <td>102.6805</td>\n",
       "      <td>37.099</td>\n",
       "      <td>4.50</td>\n",
       "      <td>kotabumi</td>\n",
       "      <td>12</td>\n",
       "      <td>56</td>\n",
       "      <td>31</td>\n",
       "    </tr>\n",
       "    <tr>\n",
       "      <th>3</th>\n",
       "      <td>19</td>\n",
       "      <td>9</td>\n",
       "      <td>2022</td>\n",
       "      <td>-5.5071</td>\n",
       "      <td>102.8860</td>\n",
       "      <td>38.085</td>\n",
       "      <td>4.20</td>\n",
       "      <td>Pagar Alam</td>\n",
       "      <td>19</td>\n",
       "      <td>16</td>\n",
       "      <td>25</td>\n",
       "    </tr>\n",
       "    <tr>\n",
       "      <th>4</th>\n",
       "      <td>13</td>\n",
       "      <td>9</td>\n",
       "      <td>2022</td>\n",
       "      <td>-5.6133</td>\n",
       "      <td>104.1844</td>\n",
       "      <td>96.048</td>\n",
       "      <td>4.90</td>\n",
       "      <td>Kotabumi</td>\n",
       "      <td>11</td>\n",
       "      <td>18</td>\n",
       "      <td>3</td>\n",
       "    </tr>\n",
       "    <tr>\n",
       "      <th>...</th>\n",
       "      <td>...</td>\n",
       "      <td>...</td>\n",
       "      <td>...</td>\n",
       "      <td>...</td>\n",
       "      <td>...</td>\n",
       "      <td>...</td>\n",
       "      <td>...</td>\n",
       "      <td>...</td>\n",
       "      <td>...</td>\n",
       "      <td>...</td>\n",
       "      <td>...</td>\n",
       "    </tr>\n",
       "    <tr>\n",
       "      <th>2807</th>\n",
       "      <td>15</td>\n",
       "      <td>4</td>\n",
       "      <td>1916</td>\n",
       "      <td>-4.3380</td>\n",
       "      <td>102.5970</td>\n",
       "      <td>35.000</td>\n",
       "      <td>6.71</td>\n",
       "      <td>Bengkulu</td>\n",
       "      <td>12</td>\n",
       "      <td>31</td>\n",
       "      <td>43</td>\n",
       "    </tr>\n",
       "    <tr>\n",
       "      <th>2808</th>\n",
       "      <td>14</td>\n",
       "      <td>7</td>\n",
       "      <td>1914</td>\n",
       "      <td>-5.3050</td>\n",
       "      <td>102.5790</td>\n",
       "      <td>30.000</td>\n",
       "      <td>6.32</td>\n",
       "      <td>Pagar Alam</td>\n",
       "      <td>3</td>\n",
       "      <td>10</td>\n",
       "      <td>26</td>\n",
       "    </tr>\n",
       "    <tr>\n",
       "      <th>2809</th>\n",
       "      <td>25</td>\n",
       "      <td>6</td>\n",
       "      <td>1914</td>\n",
       "      <td>-4.0120</td>\n",
       "      <td>101.6380</td>\n",
       "      <td>35.000</td>\n",
       "      <td>7.55</td>\n",
       "      <td>Bengkulu</td>\n",
       "      <td>19</td>\n",
       "      <td>7</td>\n",
       "      <td>25</td>\n",
       "    </tr>\n",
       "    <tr>\n",
       "      <th>2810</th>\n",
       "      <td>3</td>\n",
       "      <td>6</td>\n",
       "      <td>1909</td>\n",
       "      <td>-2.7130</td>\n",
       "      <td>101.1880</td>\n",
       "      <td>35.000</td>\n",
       "      <td>7.58</td>\n",
       "      <td>Sungai Penuh</td>\n",
       "      <td>18</td>\n",
       "      <td>40</td>\n",
       "      <td>43</td>\n",
       "    </tr>\n",
       "    <tr>\n",
       "      <th>2811</th>\n",
       "      <td>28</td>\n",
       "      <td>10</td>\n",
       "      <td>1906</td>\n",
       "      <td>-4.3450</td>\n",
       "      <td>101.9850</td>\n",
       "      <td>60.000</td>\n",
       "      <td>6.01</td>\n",
       "      <td>Bengkulu</td>\n",
       "      <td>15</td>\n",
       "      <td>50</td>\n",
       "      <td>18</td>\n",
       "    </tr>\n",
       "  </tbody>\n",
       "</table>\n",
       "<p>2812 rows × 11 columns</p>\n",
       "</div>"
      ],
      "text/plain": [
       "      Day  Month  Years  Latitude  Longitude    Depth   Mag         Place  \\\n",
       "0       4     10   2022   -4.9967   104.2793  112.997  4.40      Kotabumi   \n",
       "1       1     10   2022   -3.8325   101.8353   60.652  4.90      Bengkulu   \n",
       "2      29      9   2022   -5.4541   102.6805   37.099  4.50     kotabumi    \n",
       "3      19      9   2022   -5.5071   102.8860   38.085  4.20    Pagar Alam   \n",
       "4      13      9   2022   -5.6133   104.1844   96.048  4.90      Kotabumi   \n",
       "...   ...    ...    ...       ...        ...      ...   ...           ...   \n",
       "2807   15      4   1916   -4.3380   102.5970   35.000  6.71      Bengkulu   \n",
       "2808   14      7   1914   -5.3050   102.5790   30.000  6.32    Pagar Alam   \n",
       "2809   25      6   1914   -4.0120   101.6380   35.000  7.55      Bengkulu   \n",
       "2810    3      6   1909   -2.7130   101.1880   35.000  7.58  Sungai Penuh   \n",
       "2811   28     10   1906   -4.3450   101.9850   60.000  6.01      Bengkulu   \n",
       "\n",
       "      Jam  Menit  Detik  \n",
       "0      20     14     43  \n",
       "1      13     50     16  \n",
       "2      12     56     31  \n",
       "3      19     16     25  \n",
       "4      11     18      3  \n",
       "...   ...    ...    ...  \n",
       "2807   12     31     43  \n",
       "2808    3     10     26  \n",
       "2809   19      7     25  \n",
       "2810   18     40     43  \n",
       "2811   15     50     18  \n",
       "\n",
       "[2812 rows x 11 columns]"
      ]
     },
     "execution_count": 466,
     "metadata": {},
     "output_type": "execute_result"
    }
   ],
   "source": [
    "import numpy as np\n",
    "import pandas as pd\n",
    "import matplotlib.pyplot as plt\n",
    "import plotly.express as px\n",
    "import seaborn as sns\n",
    "from sklearn.model_selection import train_test_split\n",
    " \n",
    "%matplotlib inline\n",
    "import datetime \n",
    "import time\n",
    "from sklearn.model_selection import train_test_split\n",
    "import tensorflow as tf \n",
    "from tensorflow.keras.models import Sequential\n",
    "from tensorflow.keras.layers import Dense\n",
    "from tensorflow.keras.models import Sequential\n",
    "\n",
    "\n",
    "data1 = pd.read_csv(\"Data KP Gempa Bumi Wilayah Sumatera Selatan Dan Sekitarnya.csv\")\n",
    "data"
   ]
  },
  {
   "cell_type": "markdown",
   "id": "eb67e976",
   "metadata": {},
   "source": [
    "DATA PREPROCESSING DAN EDA "
   ]
  },
  {
   "cell_type": "code",
   "execution_count": 467,
   "id": "c9e608a2",
   "metadata": {},
   "outputs": [
    {
     "data": {
      "text/plain": [
       "(2812, 9)"
      ]
     },
     "execution_count": 467,
     "metadata": {},
     "output_type": "execute_result"
    }
   ],
   "source": [
    "data1.shape"
   ]
  },
  {
   "cell_type": "code",
   "execution_count": 468,
   "id": "077811c9",
   "metadata": {},
   "outputs": [
    {
     "data": {
      "text/html": [
       "<div>\n",
       "<style scoped>\n",
       "    .dataframe tbody tr th:only-of-type {\n",
       "        vertical-align: middle;\n",
       "    }\n",
       "\n",
       "    .dataframe tbody tr th {\n",
       "        vertical-align: top;\n",
       "    }\n",
       "\n",
       "    .dataframe thead th {\n",
       "        text-align: right;\n",
       "    }\n",
       "</style>\n",
       "<table border=\"1\" class=\"dataframe\">\n",
       "  <thead>\n",
       "    <tr style=\"text-align: right;\">\n",
       "      <th></th>\n",
       "      <th>Day</th>\n",
       "      <th>Month</th>\n",
       "      <th>Years</th>\n",
       "      <th>Time</th>\n",
       "      <th>Latitude</th>\n",
       "      <th>Longitude</th>\n",
       "      <th>Depth</th>\n",
       "      <th>Mag</th>\n",
       "      <th>Place</th>\n",
       "    </tr>\n",
       "  </thead>\n",
       "  <tbody>\n",
       "    <tr>\n",
       "      <th>0</th>\n",
       "      <td>4</td>\n",
       "      <td>10</td>\n",
       "      <td>2022</td>\n",
       "      <td>20:14:43</td>\n",
       "      <td>-4.9967</td>\n",
       "      <td>104.2793</td>\n",
       "      <td>112.997</td>\n",
       "      <td>4.4</td>\n",
       "      <td>Kotabumi</td>\n",
       "    </tr>\n",
       "    <tr>\n",
       "      <th>1</th>\n",
       "      <td>1</td>\n",
       "      <td>10</td>\n",
       "      <td>2022</td>\n",
       "      <td>13:50:16</td>\n",
       "      <td>-3.8325</td>\n",
       "      <td>101.8353</td>\n",
       "      <td>60.652</td>\n",
       "      <td>4.9</td>\n",
       "      <td>Bengkulu</td>\n",
       "    </tr>\n",
       "    <tr>\n",
       "      <th>2</th>\n",
       "      <td>29</td>\n",
       "      <td>9</td>\n",
       "      <td>2022</td>\n",
       "      <td>12:56:31</td>\n",
       "      <td>-5.4541</td>\n",
       "      <td>102.6805</td>\n",
       "      <td>37.099</td>\n",
       "      <td>4.5</td>\n",
       "      <td>kotabumi</td>\n",
       "    </tr>\n",
       "    <tr>\n",
       "      <th>3</th>\n",
       "      <td>19</td>\n",
       "      <td>9</td>\n",
       "      <td>2022</td>\n",
       "      <td>19:16:25</td>\n",
       "      <td>-5.5071</td>\n",
       "      <td>102.8860</td>\n",
       "      <td>38.085</td>\n",
       "      <td>4.2</td>\n",
       "      <td>Pagar Alam</td>\n",
       "    </tr>\n",
       "    <tr>\n",
       "      <th>4</th>\n",
       "      <td>13</td>\n",
       "      <td>9</td>\n",
       "      <td>2022</td>\n",
       "      <td>11:18:03</td>\n",
       "      <td>-5.6133</td>\n",
       "      <td>104.1844</td>\n",
       "      <td>96.048</td>\n",
       "      <td>4.9</td>\n",
       "      <td>Kotabumi</td>\n",
       "    </tr>\n",
       "  </tbody>\n",
       "</table>\n",
       "</div>"
      ],
      "text/plain": [
       "   Day  Month  Years      Time  Latitude  Longitude    Depth  Mag        Place\n",
       "0    4     10   2022  20:14:43   -4.9967   104.2793  112.997  4.4     Kotabumi\n",
       "1    1     10   2022  13:50:16   -3.8325   101.8353   60.652  4.9     Bengkulu\n",
       "2   29      9   2022  12:56:31   -5.4541   102.6805   37.099  4.5    kotabumi \n",
       "3   19      9   2022  19:16:25   -5.5071   102.8860   38.085  4.2   Pagar Alam\n",
       "4   13      9   2022  11:18:03   -5.6133   104.1844   96.048  4.9     Kotabumi"
      ]
     },
     "execution_count": 468,
     "metadata": {},
     "output_type": "execute_result"
    }
   ],
   "source": [
    "data1.head(5)"
   ]
  },
  {
   "cell_type": "code",
   "execution_count": 469,
   "id": "fd85242e",
   "metadata": {},
   "outputs": [
    {
     "name": "stdout",
     "output_type": "stream",
     "text": [
      "0       False\n",
      "1       False\n",
      "2       False\n",
      "3       False\n",
      "4       False\n",
      "        ...  \n",
      "2807    False\n",
      "2808    False\n",
      "2809    False\n",
      "2810    False\n",
      "2811    False\n",
      "Length: 2812, dtype: bool\n"
     ]
    }
   ],
   "source": [
    "print(data1.duplicated())"
   ]
  },
  {
   "cell_type": "code",
   "execution_count": 470,
   "id": "57c5a502",
   "metadata": {},
   "outputs": [
    {
     "data": {
      "text/plain": [
       "0"
      ]
     },
     "execution_count": 470,
     "metadata": {},
     "output_type": "execute_result"
    }
   ],
   "source": [
    "data1.duplicated().sum()"
   ]
  },
  {
   "cell_type": "code",
   "execution_count": 471,
   "id": "36ca8b18",
   "metadata": {},
   "outputs": [
    {
     "name": "stdout",
     "output_type": "stream",
     "text": [
      "      Day  Month  Years      Time  Latitude  Longitude    Depth   Mag  \\\n",
      "0       4     10   2022  20:14:43   -4.9967   104.2793  112.997  4.40   \n",
      "1       1     10   2022  13:50:16   -3.8325   101.8353   60.652  4.90   \n",
      "2      29      9   2022  12:56:31   -5.4541   102.6805   37.099  4.50   \n",
      "3      19      9   2022  19:16:25   -5.5071   102.8860   38.085  4.20   \n",
      "4      13      9   2022  11:18:03   -5.6133   104.1844   96.048  4.90   \n",
      "...   ...    ...    ...       ...       ...        ...      ...   ...   \n",
      "2807   15      4   1916  12:31:43   -4.3380   102.5970   35.000  6.71   \n",
      "2808   14      7   1914   3:10:26   -5.3050   102.5790   30.000  6.32   \n",
      "2809   25      6   1914  19:07:25   -4.0120   101.6380   35.000  7.55   \n",
      "2810    3      6   1909  18:40:43   -2.7130   101.1880   35.000  7.58   \n",
      "2811   28     10   1906  15:50:18   -4.3450   101.9850   60.000  6.01   \n",
      "\n",
      "             Place  \n",
      "0         Kotabumi  \n",
      "1         Bengkulu  \n",
      "2        kotabumi   \n",
      "3       Pagar Alam  \n",
      "4         Kotabumi  \n",
      "...            ...  \n",
      "2807      Bengkulu  \n",
      "2808    Pagar Alam  \n",
      "2809      Bengkulu  \n",
      "2810  Sungai Penuh  \n",
      "2811      Bengkulu  \n",
      "\n",
      "[2812 rows x 9 columns]\n"
     ]
    }
   ],
   "source": [
    "print(data1.dropna())"
   ]
  },
  {
   "cell_type": "code",
   "execution_count": 472,
   "id": "2167b0de",
   "metadata": {},
   "outputs": [
    {
     "data": {
      "text/html": [
       "<div>\n",
       "<style scoped>\n",
       "    .dataframe tbody tr th:only-of-type {\n",
       "        vertical-align: middle;\n",
       "    }\n",
       "\n",
       "    .dataframe tbody tr th {\n",
       "        vertical-align: top;\n",
       "    }\n",
       "\n",
       "    .dataframe thead th {\n",
       "        text-align: right;\n",
       "    }\n",
       "</style>\n",
       "<table border=\"1\" class=\"dataframe\">\n",
       "  <thead>\n",
       "    <tr style=\"text-align: right;\">\n",
       "      <th></th>\n",
       "      <th>Day</th>\n",
       "      <th>Month</th>\n",
       "      <th>Years</th>\n",
       "      <th>Time</th>\n",
       "      <th>Latitude</th>\n",
       "      <th>Longitude</th>\n",
       "      <th>Depth</th>\n",
       "      <th>Mag</th>\n",
       "      <th>Place</th>\n",
       "    </tr>\n",
       "  </thead>\n",
       "  <tbody>\n",
       "    <tr>\n",
       "      <th>0</th>\n",
       "      <td>4</td>\n",
       "      <td>10</td>\n",
       "      <td>2022</td>\n",
       "      <td>20:14:43</td>\n",
       "      <td>-4.9967</td>\n",
       "      <td>104.2793</td>\n",
       "      <td>112.997</td>\n",
       "      <td>4.40</td>\n",
       "      <td>Kotabumi</td>\n",
       "    </tr>\n",
       "    <tr>\n",
       "      <th>1</th>\n",
       "      <td>1</td>\n",
       "      <td>10</td>\n",
       "      <td>2022</td>\n",
       "      <td>13:50:16</td>\n",
       "      <td>-3.8325</td>\n",
       "      <td>101.8353</td>\n",
       "      <td>60.652</td>\n",
       "      <td>4.90</td>\n",
       "      <td>Bengkulu</td>\n",
       "    </tr>\n",
       "    <tr>\n",
       "      <th>2</th>\n",
       "      <td>29</td>\n",
       "      <td>9</td>\n",
       "      <td>2022</td>\n",
       "      <td>12:56:31</td>\n",
       "      <td>-5.4541</td>\n",
       "      <td>102.6805</td>\n",
       "      <td>37.099</td>\n",
       "      <td>4.50</td>\n",
       "      <td>kotabumi</td>\n",
       "    </tr>\n",
       "    <tr>\n",
       "      <th>3</th>\n",
       "      <td>19</td>\n",
       "      <td>9</td>\n",
       "      <td>2022</td>\n",
       "      <td>19:16:25</td>\n",
       "      <td>-5.5071</td>\n",
       "      <td>102.8860</td>\n",
       "      <td>38.085</td>\n",
       "      <td>4.20</td>\n",
       "      <td>Pagar Alam</td>\n",
       "    </tr>\n",
       "    <tr>\n",
       "      <th>4</th>\n",
       "      <td>13</td>\n",
       "      <td>9</td>\n",
       "      <td>2022</td>\n",
       "      <td>11:18:03</td>\n",
       "      <td>-5.6133</td>\n",
       "      <td>104.1844</td>\n",
       "      <td>96.048</td>\n",
       "      <td>4.90</td>\n",
       "      <td>Kotabumi</td>\n",
       "    </tr>\n",
       "    <tr>\n",
       "      <th>...</th>\n",
       "      <td>...</td>\n",
       "      <td>...</td>\n",
       "      <td>...</td>\n",
       "      <td>...</td>\n",
       "      <td>...</td>\n",
       "      <td>...</td>\n",
       "      <td>...</td>\n",
       "      <td>...</td>\n",
       "      <td>...</td>\n",
       "    </tr>\n",
       "    <tr>\n",
       "      <th>2807</th>\n",
       "      <td>15</td>\n",
       "      <td>4</td>\n",
       "      <td>1916</td>\n",
       "      <td>12:31:43</td>\n",
       "      <td>-4.3380</td>\n",
       "      <td>102.5970</td>\n",
       "      <td>35.000</td>\n",
       "      <td>6.71</td>\n",
       "      <td>Bengkulu</td>\n",
       "    </tr>\n",
       "    <tr>\n",
       "      <th>2808</th>\n",
       "      <td>14</td>\n",
       "      <td>7</td>\n",
       "      <td>1914</td>\n",
       "      <td>3:10:26</td>\n",
       "      <td>-5.3050</td>\n",
       "      <td>102.5790</td>\n",
       "      <td>30.000</td>\n",
       "      <td>6.32</td>\n",
       "      <td>Pagar Alam</td>\n",
       "    </tr>\n",
       "    <tr>\n",
       "      <th>2809</th>\n",
       "      <td>25</td>\n",
       "      <td>6</td>\n",
       "      <td>1914</td>\n",
       "      <td>19:07:25</td>\n",
       "      <td>-4.0120</td>\n",
       "      <td>101.6380</td>\n",
       "      <td>35.000</td>\n",
       "      <td>7.55</td>\n",
       "      <td>Bengkulu</td>\n",
       "    </tr>\n",
       "    <tr>\n",
       "      <th>2810</th>\n",
       "      <td>3</td>\n",
       "      <td>6</td>\n",
       "      <td>1909</td>\n",
       "      <td>18:40:43</td>\n",
       "      <td>-2.7130</td>\n",
       "      <td>101.1880</td>\n",
       "      <td>35.000</td>\n",
       "      <td>7.58</td>\n",
       "      <td>Sungai Penuh</td>\n",
       "    </tr>\n",
       "    <tr>\n",
       "      <th>2811</th>\n",
       "      <td>28</td>\n",
       "      <td>10</td>\n",
       "      <td>1906</td>\n",
       "      <td>15:50:18</td>\n",
       "      <td>-4.3450</td>\n",
       "      <td>101.9850</td>\n",
       "      <td>60.000</td>\n",
       "      <td>6.01</td>\n",
       "      <td>Bengkulu</td>\n",
       "    </tr>\n",
       "  </tbody>\n",
       "</table>\n",
       "<p>2812 rows × 9 columns</p>\n",
       "</div>"
      ],
      "text/plain": [
       "      Day  Month  Years      Time  Latitude  Longitude    Depth   Mag  \\\n",
       "0       4     10   2022  20:14:43   -4.9967   104.2793  112.997  4.40   \n",
       "1       1     10   2022  13:50:16   -3.8325   101.8353   60.652  4.90   \n",
       "2      29      9   2022  12:56:31   -5.4541   102.6805   37.099  4.50   \n",
       "3      19      9   2022  19:16:25   -5.5071   102.8860   38.085  4.20   \n",
       "4      13      9   2022  11:18:03   -5.6133   104.1844   96.048  4.90   \n",
       "...   ...    ...    ...       ...       ...        ...      ...   ...   \n",
       "2807   15      4   1916  12:31:43   -4.3380   102.5970   35.000  6.71   \n",
       "2808   14      7   1914   3:10:26   -5.3050   102.5790   30.000  6.32   \n",
       "2809   25      6   1914  19:07:25   -4.0120   101.6380   35.000  7.55   \n",
       "2810    3      6   1909  18:40:43   -2.7130   101.1880   35.000  7.58   \n",
       "2811   28     10   1906  15:50:18   -4.3450   101.9850   60.000  6.01   \n",
       "\n",
       "             Place  \n",
       "0         Kotabumi  \n",
       "1         Bengkulu  \n",
       "2        kotabumi   \n",
       "3       Pagar Alam  \n",
       "4         Kotabumi  \n",
       "...            ...  \n",
       "2807      Bengkulu  \n",
       "2808    Pagar Alam  \n",
       "2809      Bengkulu  \n",
       "2810  Sungai Penuh  \n",
       "2811      Bengkulu  \n",
       "\n",
       "[2812 rows x 9 columns]"
      ]
     },
     "execution_count": 472,
     "metadata": {},
     "output_type": "execute_result"
    }
   ],
   "source": [
    "data1.fillna(value=0)"
   ]
  },
  {
   "cell_type": "code",
   "execution_count": 473,
   "id": "23954567",
   "metadata": {},
   "outputs": [
    {
     "data": {
      "text/html": [
       "<div>\n",
       "<style scoped>\n",
       "    .dataframe tbody tr th:only-of-type {\n",
       "        vertical-align: middle;\n",
       "    }\n",
       "\n",
       "    .dataframe tbody tr th {\n",
       "        vertical-align: top;\n",
       "    }\n",
       "\n",
       "    .dataframe thead th {\n",
       "        text-align: right;\n",
       "    }\n",
       "</style>\n",
       "<table border=\"1\" class=\"dataframe\">\n",
       "  <thead>\n",
       "    <tr style=\"text-align: right;\">\n",
       "      <th></th>\n",
       "      <th>Day</th>\n",
       "      <th>Month</th>\n",
       "      <th>Years</th>\n",
       "      <th>Time</th>\n",
       "      <th>Latitude</th>\n",
       "      <th>Longitude</th>\n",
       "      <th>Depth</th>\n",
       "      <th>Mag</th>\n",
       "      <th>Place</th>\n",
       "    </tr>\n",
       "  </thead>\n",
       "  <tbody>\n",
       "    <tr>\n",
       "      <th>0</th>\n",
       "      <td>False</td>\n",
       "      <td>False</td>\n",
       "      <td>False</td>\n",
       "      <td>False</td>\n",
       "      <td>False</td>\n",
       "      <td>False</td>\n",
       "      <td>False</td>\n",
       "      <td>False</td>\n",
       "      <td>False</td>\n",
       "    </tr>\n",
       "    <tr>\n",
       "      <th>1</th>\n",
       "      <td>False</td>\n",
       "      <td>False</td>\n",
       "      <td>False</td>\n",
       "      <td>False</td>\n",
       "      <td>False</td>\n",
       "      <td>False</td>\n",
       "      <td>False</td>\n",
       "      <td>False</td>\n",
       "      <td>False</td>\n",
       "    </tr>\n",
       "    <tr>\n",
       "      <th>2</th>\n",
       "      <td>False</td>\n",
       "      <td>False</td>\n",
       "      <td>False</td>\n",
       "      <td>False</td>\n",
       "      <td>False</td>\n",
       "      <td>False</td>\n",
       "      <td>False</td>\n",
       "      <td>False</td>\n",
       "      <td>False</td>\n",
       "    </tr>\n",
       "    <tr>\n",
       "      <th>3</th>\n",
       "      <td>False</td>\n",
       "      <td>False</td>\n",
       "      <td>False</td>\n",
       "      <td>False</td>\n",
       "      <td>False</td>\n",
       "      <td>False</td>\n",
       "      <td>False</td>\n",
       "      <td>False</td>\n",
       "      <td>False</td>\n",
       "    </tr>\n",
       "    <tr>\n",
       "      <th>4</th>\n",
       "      <td>False</td>\n",
       "      <td>False</td>\n",
       "      <td>False</td>\n",
       "      <td>False</td>\n",
       "      <td>False</td>\n",
       "      <td>False</td>\n",
       "      <td>False</td>\n",
       "      <td>False</td>\n",
       "      <td>False</td>\n",
       "    </tr>\n",
       "    <tr>\n",
       "      <th>...</th>\n",
       "      <td>...</td>\n",
       "      <td>...</td>\n",
       "      <td>...</td>\n",
       "      <td>...</td>\n",
       "      <td>...</td>\n",
       "      <td>...</td>\n",
       "      <td>...</td>\n",
       "      <td>...</td>\n",
       "      <td>...</td>\n",
       "    </tr>\n",
       "    <tr>\n",
       "      <th>2807</th>\n",
       "      <td>False</td>\n",
       "      <td>False</td>\n",
       "      <td>False</td>\n",
       "      <td>False</td>\n",
       "      <td>False</td>\n",
       "      <td>False</td>\n",
       "      <td>False</td>\n",
       "      <td>False</td>\n",
       "      <td>False</td>\n",
       "    </tr>\n",
       "    <tr>\n",
       "      <th>2808</th>\n",
       "      <td>False</td>\n",
       "      <td>False</td>\n",
       "      <td>False</td>\n",
       "      <td>False</td>\n",
       "      <td>False</td>\n",
       "      <td>False</td>\n",
       "      <td>False</td>\n",
       "      <td>False</td>\n",
       "      <td>False</td>\n",
       "    </tr>\n",
       "    <tr>\n",
       "      <th>2809</th>\n",
       "      <td>False</td>\n",
       "      <td>False</td>\n",
       "      <td>False</td>\n",
       "      <td>False</td>\n",
       "      <td>False</td>\n",
       "      <td>False</td>\n",
       "      <td>False</td>\n",
       "      <td>False</td>\n",
       "      <td>False</td>\n",
       "    </tr>\n",
       "    <tr>\n",
       "      <th>2810</th>\n",
       "      <td>False</td>\n",
       "      <td>False</td>\n",
       "      <td>False</td>\n",
       "      <td>False</td>\n",
       "      <td>False</td>\n",
       "      <td>False</td>\n",
       "      <td>False</td>\n",
       "      <td>False</td>\n",
       "      <td>False</td>\n",
       "    </tr>\n",
       "    <tr>\n",
       "      <th>2811</th>\n",
       "      <td>False</td>\n",
       "      <td>False</td>\n",
       "      <td>False</td>\n",
       "      <td>False</td>\n",
       "      <td>False</td>\n",
       "      <td>False</td>\n",
       "      <td>False</td>\n",
       "      <td>False</td>\n",
       "      <td>False</td>\n",
       "    </tr>\n",
       "  </tbody>\n",
       "</table>\n",
       "<p>2812 rows × 9 columns</p>\n",
       "</div>"
      ],
      "text/plain": [
       "        Day  Month  Years   Time  Latitude  Longitude  Depth    Mag  Place\n",
       "0     False  False  False  False     False      False  False  False  False\n",
       "1     False  False  False  False     False      False  False  False  False\n",
       "2     False  False  False  False     False      False  False  False  False\n",
       "3     False  False  False  False     False      False  False  False  False\n",
       "4     False  False  False  False     False      False  False  False  False\n",
       "...     ...    ...    ...    ...       ...        ...    ...    ...    ...\n",
       "2807  False  False  False  False     False      False  False  False  False\n",
       "2808  False  False  False  False     False      False  False  False  False\n",
       "2809  False  False  False  False     False      False  False  False  False\n",
       "2810  False  False  False  False     False      False  False  False  False\n",
       "2811  False  False  False  False     False      False  False  False  False\n",
       "\n",
       "[2812 rows x 9 columns]"
      ]
     },
     "execution_count": 473,
     "metadata": {},
     "output_type": "execute_result"
    }
   ],
   "source": [
    "pd.isnull(data1)"
   ]
  },
  {
   "cell_type": "code",
   "execution_count": 474,
   "id": "0888440a",
   "metadata": {},
   "outputs": [
    {
     "data": {
      "text/html": [
       "<div>\n",
       "<style scoped>\n",
       "    .dataframe tbody tr th:only-of-type {\n",
       "        vertical-align: middle;\n",
       "    }\n",
       "\n",
       "    .dataframe tbody tr th {\n",
       "        vertical-align: top;\n",
       "    }\n",
       "\n",
       "    .dataframe thead th {\n",
       "        text-align: right;\n",
       "    }\n",
       "</style>\n",
       "<table border=\"1\" class=\"dataframe\">\n",
       "  <thead>\n",
       "    <tr style=\"text-align: right;\">\n",
       "      <th></th>\n",
       "      <th>Day</th>\n",
       "      <th>Month</th>\n",
       "      <th>Years</th>\n",
       "      <th>Latitude</th>\n",
       "      <th>Longitude</th>\n",
       "      <th>Depth</th>\n",
       "      <th>Mag</th>\n",
       "    </tr>\n",
       "  </thead>\n",
       "  <tbody>\n",
       "    <tr>\n",
       "      <th>count</th>\n",
       "      <td>2812.000000</td>\n",
       "      <td>2812.000000</td>\n",
       "      <td>2812.000000</td>\n",
       "      <td>2812.000000</td>\n",
       "      <td>2812.000000</td>\n",
       "      <td>2812.000000</td>\n",
       "      <td>2812.000000</td>\n",
       "    </tr>\n",
       "    <tr>\n",
       "      <th>mean</th>\n",
       "      <td>15.316501</td>\n",
       "      <td>6.643670</td>\n",
       "      <td>2002.085349</td>\n",
       "      <td>-4.316166</td>\n",
       "      <td>102.317585</td>\n",
       "      <td>57.773326</td>\n",
       "      <td>4.741970</td>\n",
       "    </tr>\n",
       "    <tr>\n",
       "      <th>std</th>\n",
       "      <td>8.613325</td>\n",
       "      <td>3.204239</td>\n",
       "      <td>14.592112</td>\n",
       "      <td>0.957706</td>\n",
       "      <td>0.953301</td>\n",
       "      <td>48.765237</td>\n",
       "      <td>0.530978</td>\n",
       "    </tr>\n",
       "    <tr>\n",
       "      <th>min</th>\n",
       "      <td>1.000000</td>\n",
       "      <td>1.000000</td>\n",
       "      <td>1906.000000</td>\n",
       "      <td>-5.660000</td>\n",
       "      <td>100.791000</td>\n",
       "      <td>3.900000</td>\n",
       "      <td>3.500000</td>\n",
       "    </tr>\n",
       "    <tr>\n",
       "      <th>25%</th>\n",
       "      <td>8.000000</td>\n",
       "      <td>4.000000</td>\n",
       "      <td>1998.000000</td>\n",
       "      <td>-5.031700</td>\n",
       "      <td>101.639850</td>\n",
       "      <td>33.000000</td>\n",
       "      <td>4.400000</td>\n",
       "    </tr>\n",
       "    <tr>\n",
       "      <th>50%</th>\n",
       "      <td>15.000000</td>\n",
       "      <td>6.000000</td>\n",
       "      <td>2004.000000</td>\n",
       "      <td>-4.494000</td>\n",
       "      <td>102.248000</td>\n",
       "      <td>35.000000</td>\n",
       "      <td>4.700000</td>\n",
       "    </tr>\n",
       "    <tr>\n",
       "      <th>75%</th>\n",
       "      <td>22.000000</td>\n",
       "      <td>9.000000</td>\n",
       "      <td>2011.000000</td>\n",
       "      <td>-3.758525</td>\n",
       "      <td>102.814000</td>\n",
       "      <td>64.415000</td>\n",
       "      <td>5.000000</td>\n",
       "    </tr>\n",
       "    <tr>\n",
       "      <th>max</th>\n",
       "      <td>31.000000</td>\n",
       "      <td>12.000000</td>\n",
       "      <td>2022.000000</td>\n",
       "      <td>-0.972000</td>\n",
       "      <td>106.225000</td>\n",
       "      <td>604.700000</td>\n",
       "      <td>8.400000</td>\n",
       "    </tr>\n",
       "  </tbody>\n",
       "</table>\n",
       "</div>"
      ],
      "text/plain": [
       "               Day        Month        Years     Latitude    Longitude  \\\n",
       "count  2812.000000  2812.000000  2812.000000  2812.000000  2812.000000   \n",
       "mean     15.316501     6.643670  2002.085349    -4.316166   102.317585   \n",
       "std       8.613325     3.204239    14.592112     0.957706     0.953301   \n",
       "min       1.000000     1.000000  1906.000000    -5.660000   100.791000   \n",
       "25%       8.000000     4.000000  1998.000000    -5.031700   101.639850   \n",
       "50%      15.000000     6.000000  2004.000000    -4.494000   102.248000   \n",
       "75%      22.000000     9.000000  2011.000000    -3.758525   102.814000   \n",
       "max      31.000000    12.000000  2022.000000    -0.972000   106.225000   \n",
       "\n",
       "             Depth          Mag  \n",
       "count  2812.000000  2812.000000  \n",
       "mean     57.773326     4.741970  \n",
       "std      48.765237     0.530978  \n",
       "min       3.900000     3.500000  \n",
       "25%      33.000000     4.400000  \n",
       "50%      35.000000     4.700000  \n",
       "75%      64.415000     5.000000  \n",
       "max     604.700000     8.400000  "
      ]
     },
     "execution_count": 474,
     "metadata": {},
     "output_type": "execute_result"
    }
   ],
   "source": [
    "data1.describe()"
   ]
  },
  {
   "cell_type": "code",
   "execution_count": 475,
   "id": "27923f8f",
   "metadata": {},
   "outputs": [
    {
     "data": {
      "text/plain": [
       "array([4.4 , 4.9 , 4.5 , 4.2 , 4.8 , 5.4 , 5.1 , 5.  , 4.7 , 6.2 , 4.  ,\n",
       "       4.3 , 5.3 , 5.2 , 5.8 , 4.6 , 4.1 , 5.5 , 6.9 , 6.8 , 5.6 , 5.9 ,\n",
       "       5.7 , 6.4 , 6.  , 6.5 , 6.6 , 6.3 , 3.9 , 3.8 , 3.7 , 3.5 , 7.9 ,\n",
       "       8.4 , 7.3 , 3.6 , 7.4 , 6.7 , 6.1 , 7.  , 5.54, 5.62, 5.97, 5.67,\n",
       "       5.53, 5.51, 7.02, 5.58, 5.42, 5.85, 5.55, 5.63, 5.56, 5.93, 6.07,\n",
       "       6.56, 6.23, 5.73, 6.33, 6.28, 6.29, 6.64, 6.05, 7.38, 5.79, 6.02,\n",
       "       6.13, 6.19, 5.45, 6.31, 5.77, 7.52, 5.99, 5.88, 7.34, 6.45, 6.37,\n",
       "       6.14, 6.68, 6.65, 6.16, 6.54, 6.35, 6.71, 6.32, 7.55, 7.58, 6.01])"
      ]
     },
     "execution_count": 475,
     "metadata": {},
     "output_type": "execute_result"
    }
   ],
   "source": [
    "data1['Mag'].unique()"
   ]
  },
  {
   "cell_type": "code",
   "execution_count": 476,
   "id": "92c11253",
   "metadata": {},
   "outputs": [],
   "source": [
    "import warnings\n",
    "\n",
    "warnings.filterwarnings('ignore')"
   ]
  },
  {
   "cell_type": "markdown",
   "id": "1720a26a",
   "metadata": {},
   "source": [
    "FEATURE ENGINEERING"
   ]
  },
  {
   "cell_type": "code",
   "execution_count": 477,
   "id": "f8b4da5c",
   "metadata": {},
   "outputs": [
    {
     "data": {
      "text/html": [
       "<div>\n",
       "<style scoped>\n",
       "    .dataframe tbody tr th:only-of-type {\n",
       "        vertical-align: middle;\n",
       "    }\n",
       "\n",
       "    .dataframe tbody tr th {\n",
       "        vertical-align: top;\n",
       "    }\n",
       "\n",
       "    .dataframe thead th {\n",
       "        text-align: right;\n",
       "    }\n",
       "</style>\n",
       "<table border=\"1\" class=\"dataframe\">\n",
       "  <thead>\n",
       "    <tr style=\"text-align: right;\">\n",
       "      <th></th>\n",
       "      <th>Day</th>\n",
       "      <th>Month</th>\n",
       "      <th>Years</th>\n",
       "      <th>Time</th>\n",
       "      <th>Latitude</th>\n",
       "      <th>Longitude</th>\n",
       "      <th>Depth</th>\n",
       "      <th>Mag</th>\n",
       "      <th>Place</th>\n",
       "    </tr>\n",
       "  </thead>\n",
       "  <tbody>\n",
       "    <tr>\n",
       "      <th>0</th>\n",
       "      <td>4</td>\n",
       "      <td>10</td>\n",
       "      <td>2022</td>\n",
       "      <td>20:14:43</td>\n",
       "      <td>-4.9967</td>\n",
       "      <td>104.2793</td>\n",
       "      <td>112.997</td>\n",
       "      <td>4.4</td>\n",
       "      <td>Kotabumi</td>\n",
       "    </tr>\n",
       "    <tr>\n",
       "      <th>1</th>\n",
       "      <td>1</td>\n",
       "      <td>10</td>\n",
       "      <td>2022</td>\n",
       "      <td>13:50:16</td>\n",
       "      <td>-3.8325</td>\n",
       "      <td>101.8353</td>\n",
       "      <td>60.652</td>\n",
       "      <td>4.9</td>\n",
       "      <td>Bengkulu</td>\n",
       "    </tr>\n",
       "    <tr>\n",
       "      <th>2</th>\n",
       "      <td>29</td>\n",
       "      <td>9</td>\n",
       "      <td>2022</td>\n",
       "      <td>12:56:31</td>\n",
       "      <td>-5.4541</td>\n",
       "      <td>102.6805</td>\n",
       "      <td>37.099</td>\n",
       "      <td>4.5</td>\n",
       "      <td>kotabumi</td>\n",
       "    </tr>\n",
       "    <tr>\n",
       "      <th>3</th>\n",
       "      <td>19</td>\n",
       "      <td>9</td>\n",
       "      <td>2022</td>\n",
       "      <td>19:16:25</td>\n",
       "      <td>-5.5071</td>\n",
       "      <td>102.8860</td>\n",
       "      <td>38.085</td>\n",
       "      <td>4.2</td>\n",
       "      <td>Pagar Alam</td>\n",
       "    </tr>\n",
       "    <tr>\n",
       "      <th>4</th>\n",
       "      <td>13</td>\n",
       "      <td>9</td>\n",
       "      <td>2022</td>\n",
       "      <td>11:18:03</td>\n",
       "      <td>-5.6133</td>\n",
       "      <td>104.1844</td>\n",
       "      <td>96.048</td>\n",
       "      <td>4.9</td>\n",
       "      <td>Kotabumi</td>\n",
       "    </tr>\n",
       "  </tbody>\n",
       "</table>\n",
       "</div>"
      ],
      "text/plain": [
       "   Day  Month  Years      Time  Latitude  Longitude    Depth  Mag        Place\n",
       "0    4     10   2022  20:14:43   -4.9967   104.2793  112.997  4.4     Kotabumi\n",
       "1    1     10   2022  13:50:16   -3.8325   101.8353   60.652  4.9     Bengkulu\n",
       "2   29      9   2022  12:56:31   -5.4541   102.6805   37.099  4.5    kotabumi \n",
       "3   19      9   2022  19:16:25   -5.5071   102.8860   38.085  4.2   Pagar Alam\n",
       "4   13      9   2022  11:18:03   -5.6133   104.1844   96.048  4.9     Kotabumi"
      ]
     },
     "execution_count": 477,
     "metadata": {},
     "output_type": "execute_result"
    }
   ],
   "source": [
    "data1.head()"
   ]
  },
  {
   "cell_type": "code",
   "execution_count": 478,
   "id": "df0f6830",
   "metadata": {},
   "outputs": [
    {
     "data": {
      "text/plain": [
       "0       20:14:43\n",
       "1       13:50:16\n",
       "2       12:56:31\n",
       "3       19:16:25\n",
       "4       11:18:03\n",
       "          ...   \n",
       "2807    12:31:43\n",
       "2808     3:10:26\n",
       "2809    19:07:25\n",
       "2810    18:40:43\n",
       "2811    15:50:18\n",
       "Name: Time, Length: 2812, dtype: object"
      ]
     },
     "execution_count": 478,
     "metadata": {},
     "output_type": "execute_result"
    }
   ],
   "source": [
    "data1['Time']"
   ]
  },
  {
   "cell_type": "code",
   "execution_count": 479,
   "id": "a0980b85",
   "metadata": {},
   "outputs": [
    {
     "data": {
      "text/html": [
       "<div>\n",
       "<style scoped>\n",
       "    .dataframe tbody tr th:only-of-type {\n",
       "        vertical-align: middle;\n",
       "    }\n",
       "\n",
       "    .dataframe tbody tr th {\n",
       "        vertical-align: top;\n",
       "    }\n",
       "\n",
       "    .dataframe thead th {\n",
       "        text-align: right;\n",
       "    }\n",
       "</style>\n",
       "<table border=\"1\" class=\"dataframe\">\n",
       "  <thead>\n",
       "    <tr style=\"text-align: right;\">\n",
       "      <th></th>\n",
       "      <th>Day</th>\n",
       "      <th>Month</th>\n",
       "      <th>Years</th>\n",
       "      <th>Time</th>\n",
       "      <th>Latitude</th>\n",
       "      <th>Longitude</th>\n",
       "      <th>Depth</th>\n",
       "      <th>Mag</th>\n",
       "      <th>Place</th>\n",
       "    </tr>\n",
       "  </thead>\n",
       "  <tbody>\n",
       "    <tr>\n",
       "      <th>0</th>\n",
       "      <td>4</td>\n",
       "      <td>10</td>\n",
       "      <td>2022</td>\n",
       "      <td>20:14:43</td>\n",
       "      <td>-4.9967</td>\n",
       "      <td>104.2793</td>\n",
       "      <td>112.997</td>\n",
       "      <td>4.40</td>\n",
       "      <td>Kotabumi</td>\n",
       "    </tr>\n",
       "    <tr>\n",
       "      <th>1</th>\n",
       "      <td>1</td>\n",
       "      <td>10</td>\n",
       "      <td>2022</td>\n",
       "      <td>13:50:16</td>\n",
       "      <td>-3.8325</td>\n",
       "      <td>101.8353</td>\n",
       "      <td>60.652</td>\n",
       "      <td>4.90</td>\n",
       "      <td>Bengkulu</td>\n",
       "    </tr>\n",
       "    <tr>\n",
       "      <th>2</th>\n",
       "      <td>29</td>\n",
       "      <td>9</td>\n",
       "      <td>2022</td>\n",
       "      <td>12:56:31</td>\n",
       "      <td>-5.4541</td>\n",
       "      <td>102.6805</td>\n",
       "      <td>37.099</td>\n",
       "      <td>4.50</td>\n",
       "      <td>kotabumi</td>\n",
       "    </tr>\n",
       "    <tr>\n",
       "      <th>3</th>\n",
       "      <td>19</td>\n",
       "      <td>9</td>\n",
       "      <td>2022</td>\n",
       "      <td>19:16:25</td>\n",
       "      <td>-5.5071</td>\n",
       "      <td>102.8860</td>\n",
       "      <td>38.085</td>\n",
       "      <td>4.20</td>\n",
       "      <td>Pagar Alam</td>\n",
       "    </tr>\n",
       "    <tr>\n",
       "      <th>4</th>\n",
       "      <td>13</td>\n",
       "      <td>9</td>\n",
       "      <td>2022</td>\n",
       "      <td>11:18:03</td>\n",
       "      <td>-5.6133</td>\n",
       "      <td>104.1844</td>\n",
       "      <td>96.048</td>\n",
       "      <td>4.90</td>\n",
       "      <td>Kotabumi</td>\n",
       "    </tr>\n",
       "    <tr>\n",
       "      <th>...</th>\n",
       "      <td>...</td>\n",
       "      <td>...</td>\n",
       "      <td>...</td>\n",
       "      <td>...</td>\n",
       "      <td>...</td>\n",
       "      <td>...</td>\n",
       "      <td>...</td>\n",
       "      <td>...</td>\n",
       "      <td>...</td>\n",
       "    </tr>\n",
       "    <tr>\n",
       "      <th>2807</th>\n",
       "      <td>15</td>\n",
       "      <td>4</td>\n",
       "      <td>1916</td>\n",
       "      <td>12:31:43</td>\n",
       "      <td>-4.3380</td>\n",
       "      <td>102.5970</td>\n",
       "      <td>35.000</td>\n",
       "      <td>6.71</td>\n",
       "      <td>Bengkulu</td>\n",
       "    </tr>\n",
       "    <tr>\n",
       "      <th>2808</th>\n",
       "      <td>14</td>\n",
       "      <td>7</td>\n",
       "      <td>1914</td>\n",
       "      <td>3:10:26</td>\n",
       "      <td>-5.3050</td>\n",
       "      <td>102.5790</td>\n",
       "      <td>30.000</td>\n",
       "      <td>6.32</td>\n",
       "      <td>Pagar Alam</td>\n",
       "    </tr>\n",
       "    <tr>\n",
       "      <th>2809</th>\n",
       "      <td>25</td>\n",
       "      <td>6</td>\n",
       "      <td>1914</td>\n",
       "      <td>19:07:25</td>\n",
       "      <td>-4.0120</td>\n",
       "      <td>101.6380</td>\n",
       "      <td>35.000</td>\n",
       "      <td>7.55</td>\n",
       "      <td>Bengkulu</td>\n",
       "    </tr>\n",
       "    <tr>\n",
       "      <th>2810</th>\n",
       "      <td>3</td>\n",
       "      <td>6</td>\n",
       "      <td>1909</td>\n",
       "      <td>18:40:43</td>\n",
       "      <td>-2.7130</td>\n",
       "      <td>101.1880</td>\n",
       "      <td>35.000</td>\n",
       "      <td>7.58</td>\n",
       "      <td>Sungai Penuh</td>\n",
       "    </tr>\n",
       "    <tr>\n",
       "      <th>2811</th>\n",
       "      <td>28</td>\n",
       "      <td>10</td>\n",
       "      <td>1906</td>\n",
       "      <td>15:50:18</td>\n",
       "      <td>-4.3450</td>\n",
       "      <td>101.9850</td>\n",
       "      <td>60.000</td>\n",
       "      <td>6.01</td>\n",
       "      <td>Bengkulu</td>\n",
       "    </tr>\n",
       "  </tbody>\n",
       "</table>\n",
       "<p>2812 rows × 9 columns</p>\n",
       "</div>"
      ],
      "text/plain": [
       "      Day  Month  Years      Time  Latitude  Longitude    Depth   Mag  \\\n",
       "0       4     10   2022  20:14:43   -4.9967   104.2793  112.997  4.40   \n",
       "1       1     10   2022  13:50:16   -3.8325   101.8353   60.652  4.90   \n",
       "2      29      9   2022  12:56:31   -5.4541   102.6805   37.099  4.50   \n",
       "3      19      9   2022  19:16:25   -5.5071   102.8860   38.085  4.20   \n",
       "4      13      9   2022  11:18:03   -5.6133   104.1844   96.048  4.90   \n",
       "...   ...    ...    ...       ...       ...        ...      ...   ...   \n",
       "2807   15      4   1916  12:31:43   -4.3380   102.5970   35.000  6.71   \n",
       "2808   14      7   1914   3:10:26   -5.3050   102.5790   30.000  6.32   \n",
       "2809   25      6   1914  19:07:25   -4.0120   101.6380   35.000  7.55   \n",
       "2810    3      6   1909  18:40:43   -2.7130   101.1880   35.000  7.58   \n",
       "2811   28     10   1906  15:50:18   -4.3450   101.9850   60.000  6.01   \n",
       "\n",
       "             Place  \n",
       "0         Kotabumi  \n",
       "1         Bengkulu  \n",
       "2        kotabumi   \n",
       "3       Pagar Alam  \n",
       "4         Kotabumi  \n",
       "...            ...  \n",
       "2807      Bengkulu  \n",
       "2808    Pagar Alam  \n",
       "2809      Bengkulu  \n",
       "2810  Sungai Penuh  \n",
       "2811      Bengkulu  \n",
       "\n",
       "[2812 rows x 9 columns]"
      ]
     },
     "execution_count": 479,
     "metadata": {},
     "output_type": "execute_result"
    }
   ],
   "source": [
    "data1 = data1[['Day','Month','Years','Time', 'Latitude', 'Longitude', 'Depth', 'Mag','Place']]\n",
    "data1"
   ]
  },
  {
   "cell_type": "code",
   "execution_count": 480,
   "id": "c29ba96a",
   "metadata": {},
   "outputs": [],
   "source": [
    "minutes = []\n",
    "hours = []\n",
    "seconds = []\n",
    "\n",
    "for t in data1.Time:\n",
    "    t  = t.split(\":\")\n",
    "    minutes.append(t[1])\n",
    "    hours.append(t[0])\n",
    "    seconds.append(t[2])"
   ]
  },
  {
   "cell_type": "code",
   "execution_count": 481,
   "id": "f49f878d",
   "metadata": {},
   "outputs": [],
   "source": [
    "data1['Time'] = pd.to_datetime(data1['Time'])"
   ]
  },
  {
   "cell_type": "code",
   "execution_count": 482,
   "id": "4a1b6c52",
   "metadata": {},
   "outputs": [],
   "source": [
    "data1['Jam'] = data1['Time'].dt.hour\n",
    "data1['Menit'] = data1['Time'].dt.minute\n",
    "data1['Detik'] = data1['Time'].dt.second\n"
   ]
  },
  {
   "cell_type": "code",
   "execution_count": 483,
   "id": "2e21b45f",
   "metadata": {},
   "outputs": [
    {
     "data": {
      "text/html": [
       "<div>\n",
       "<style scoped>\n",
       "    .dataframe tbody tr th:only-of-type {\n",
       "        vertical-align: middle;\n",
       "    }\n",
       "\n",
       "    .dataframe tbody tr th {\n",
       "        vertical-align: top;\n",
       "    }\n",
       "\n",
       "    .dataframe thead th {\n",
       "        text-align: right;\n",
       "    }\n",
       "</style>\n",
       "<table border=\"1\" class=\"dataframe\">\n",
       "  <thead>\n",
       "    <tr style=\"text-align: right;\">\n",
       "      <th></th>\n",
       "      <th>Day</th>\n",
       "      <th>Month</th>\n",
       "      <th>Years</th>\n",
       "      <th>Latitude</th>\n",
       "      <th>Longitude</th>\n",
       "      <th>Depth</th>\n",
       "      <th>Mag</th>\n",
       "      <th>Place</th>\n",
       "      <th>Jam</th>\n",
       "      <th>Menit</th>\n",
       "      <th>Detik</th>\n",
       "    </tr>\n",
       "  </thead>\n",
       "  <tbody>\n",
       "    <tr>\n",
       "      <th>0</th>\n",
       "      <td>4</td>\n",
       "      <td>10</td>\n",
       "      <td>2022</td>\n",
       "      <td>-4.9967</td>\n",
       "      <td>104.2793</td>\n",
       "      <td>112.997</td>\n",
       "      <td>4.4</td>\n",
       "      <td>Kotabumi</td>\n",
       "      <td>20</td>\n",
       "      <td>14</td>\n",
       "      <td>43</td>\n",
       "    </tr>\n",
       "    <tr>\n",
       "      <th>1</th>\n",
       "      <td>1</td>\n",
       "      <td>10</td>\n",
       "      <td>2022</td>\n",
       "      <td>-3.8325</td>\n",
       "      <td>101.8353</td>\n",
       "      <td>60.652</td>\n",
       "      <td>4.9</td>\n",
       "      <td>Bengkulu</td>\n",
       "      <td>13</td>\n",
       "      <td>50</td>\n",
       "      <td>16</td>\n",
       "    </tr>\n",
       "    <tr>\n",
       "      <th>2</th>\n",
       "      <td>29</td>\n",
       "      <td>9</td>\n",
       "      <td>2022</td>\n",
       "      <td>-5.4541</td>\n",
       "      <td>102.6805</td>\n",
       "      <td>37.099</td>\n",
       "      <td>4.5</td>\n",
       "      <td>kotabumi</td>\n",
       "      <td>12</td>\n",
       "      <td>56</td>\n",
       "      <td>31</td>\n",
       "    </tr>\n",
       "    <tr>\n",
       "      <th>3</th>\n",
       "      <td>19</td>\n",
       "      <td>9</td>\n",
       "      <td>2022</td>\n",
       "      <td>-5.5071</td>\n",
       "      <td>102.8860</td>\n",
       "      <td>38.085</td>\n",
       "      <td>4.2</td>\n",
       "      <td>Pagar Alam</td>\n",
       "      <td>19</td>\n",
       "      <td>16</td>\n",
       "      <td>25</td>\n",
       "    </tr>\n",
       "    <tr>\n",
       "      <th>4</th>\n",
       "      <td>13</td>\n",
       "      <td>9</td>\n",
       "      <td>2022</td>\n",
       "      <td>-5.6133</td>\n",
       "      <td>104.1844</td>\n",
       "      <td>96.048</td>\n",
       "      <td>4.9</td>\n",
       "      <td>Kotabumi</td>\n",
       "      <td>11</td>\n",
       "      <td>18</td>\n",
       "      <td>3</td>\n",
       "    </tr>\n",
       "  </tbody>\n",
       "</table>\n",
       "</div>"
      ],
      "text/plain": [
       "   Day  Month  Years  Latitude  Longitude    Depth  Mag        Place  Jam  \\\n",
       "0    4     10   2022   -4.9967   104.2793  112.997  4.4     Kotabumi   20   \n",
       "1    1     10   2022   -3.8325   101.8353   60.652  4.9     Bengkulu   13   \n",
       "2   29      9   2022   -5.4541   102.6805   37.099  4.5    kotabumi    12   \n",
       "3   19      9   2022   -5.5071   102.8860   38.085  4.2   Pagar Alam   19   \n",
       "4   13      9   2022   -5.6133   104.1844   96.048  4.9     Kotabumi   11   \n",
       "\n",
       "   Menit  Detik  \n",
       "0     14     43  \n",
       "1     50     16  \n",
       "2     56     31  \n",
       "3     16     25  \n",
       "4     18      3  "
      ]
     },
     "execution_count": 483,
     "metadata": {},
     "output_type": "execute_result"
    }
   ],
   "source": [
    "data1.drop(['Time'], axis=1, inplace=True)\n",
    "data1.head()\n"
   ]
  },
  {
   "cell_type": "code",
   "execution_count": 484,
   "id": "7303895c",
   "metadata": {},
   "outputs": [
    {
     "data": {
      "text/plain": [
       "0       2022\n",
       "1       2022\n",
       "2       2022\n",
       "3       2022\n",
       "4       2022\n",
       "        ... \n",
       "2807    1916\n",
       "2808    1914\n",
       "2809    1914\n",
       "2810    1909\n",
       "2811    1906\n",
       "Name: Years, Length: 2812, dtype: int64"
      ]
     },
     "execution_count": 484,
     "metadata": {},
     "output_type": "execute_result"
    }
   ],
   "source": [
    "data1['Years']\n"
   ]
  },
  {
   "cell_type": "markdown",
   "id": "f970eeca",
   "metadata": {},
   "source": [
    "VISUALISASI"
   ]
  },
  {
   "cell_type": "code",
   "execution_count": 485,
   "id": "b63a7d14",
   "metadata": {},
   "outputs": [
    {
     "data": {
      "text/plain": [
       "<function matplotlib.pyplot.show(close=None, block=None)>"
      ]
     },
     "execution_count": 485,
     "metadata": {},
     "output_type": "execute_result"
    },
    {
     "data": {
      "image/png": "[encoded data removed]",
      "text/plain": [
       "<Figure size 432x288 with 1 Axes>"
      ]
     },
     "metadata": {
      "needs_background": "light"
     },
     "output_type": "display_data"
    }
   ],
   "source": [
    "X = data1['Mag']\n",
    "Y = data1['Years']\n",
    "plt.scatter(X,Y)\n",
    "plt.xlabel(\"Mag\")\n",
    "plt.ylabel('Years')\n",
    "\n",
    "plt.show"
   ]
  },
  {
   "cell_type": "code",
   "execution_count": 486,
   "id": "36482f9e",
   "metadata": {},
   "outputs": [
    {
     "data": {
      "text/plain": [
       "Text(0.5, 1.0, 'Perbandingan kedalaman gempa bumi di setiap tahun ')"
      ]
     },
     "execution_count": 486,
     "metadata": {},
     "output_type": "execute_result"
    },
    {
     "data": {
      "image/png": "[encoded data removed]",
      "text/plain": [
       "<Figure size 432x288 with 1 Axes>"
      ]
     },
     "metadata": {
      "needs_background": "light"
     },
     "output_type": "display_data"
    }
   ],
   "source": [
    "#plt.scatter(d.long, d.lat, grid=True, label= \"latitude - duration\", color=\"red\")\n",
    "data1.plot(kind= \"scatter\", x= \"Depth\", y= \"Years\", grid=True, label= \"long - lat\", color=\"red\")\n",
    "plt.legend()\n",
    "plt.xlabel(\"Depth/Km\")\n",
    "plt.ylabel(\"Year\")\n",
    "plt.title(\"Perbandingan kedalaman gempa bumi di setiap tahun \")\n"
   ]
  },
  {
   "cell_type": "code",
   "execution_count": 487,
   "id": "60ec688c",
   "metadata": {},
   "outputs": [
    {
     "data": {
      "image/png": "[encoded data removed]",
      "text/plain": [
       "<Figure size 720x360 with 1 Axes>"
      ]
     },
     "metadata": {
      "needs_background": "light"
     },
     "output_type": "display_data"
    }
   ],
   "source": [
    "data1.Years.plot(kind=\"hist\", grid= True, figsize= (10,5), bins= (45))\n",
    "plt.title(\"Years\")\n",
    "plt.legend()\n",
    "plt.show()"
   ]
  },
  {
   "cell_type": "code",
   "execution_count": 488,
   "id": "2c106901",
   "metadata": {},
   "outputs": [
    {
     "data": {
      "image/png": "[encoded data removed]",
      "text/plain": [
       "<Figure size 720x360 with 1 Axes>"
      ]
     },
     "metadata": {
      "needs_background": "light"
     },
     "output_type": "display_data"
    }
   ],
   "source": [
    "data1.Depth.plot(kind=\"hist\", grid= True, figsize= (10,5), bins= (45))\n",
    "plt.title(\"Depth\")\n",
    "plt.legend()\n",
    "plt.show()"
   ]
  },
  {
   "cell_type": "code",
   "execution_count": 489,
   "id": "cd92690e",
   "metadata": {},
   "outputs": [
    {
     "data": {
      "image/png": "[encoded data removed]",
      "text/plain": [
       "<Figure size 720x360 with 1 Axes>"
      ]
     },
     "metadata": {
      "needs_background": "light"
     },
     "output_type": "display_data"
    }
   ],
   "source": [
    "data1.Mag.plot(kind=\"hist\", grid= True, figsize= (10,5), bins= (45))\n",
    "plt.title(\"Mag\")\n",
    "plt.legend()\n",
    "plt.show()"
   ]
  },
  {
   "cell_type": "code",
   "execution_count": 490,
   "id": "42ba47bb",
   "metadata": {},
   "outputs": [
    {
     "data": {
      "image/png": "[encoded data removed]",
      "text/plain": [
       "<Figure size 2160x720 with 1 Axes>"
      ]
     },
     "metadata": {
      "needs_background": "light"
     },
     "output_type": "display_data"
    }
   ],
   "source": [
    "data1.Place.value_counts().plot(kind = \"bar\" , color = \"green\" , figsize = (30,10),fontsize = 20)\n",
    "\n",
    "plt.xlabel(\"Place\",fontsize=18,color=\"black\")\n",
    "plt.ylabel(\"Frequency\",fontsize=18,color=\"black\")\n",
    "plt.show()"
   ]
  },
  {
   "cell_type": "code",
   "execution_count": 491,
   "id": "45c2d250",
   "metadata": {},
   "outputs": [
    {
     "data": {
      "text/plain": [
       "<AxesSubplot:>"
      ]
     },
     "execution_count": 491,
     "metadata": {},
     "output_type": "execute_result"
    },
    {
     "data": {
      "image/png": "[encoded data removed]",
      "text/plain": [
       "<Figure size 2160x720 with 1 Axes>"
      ]
     },
     "metadata": {
      "needs_background": "light"
     },
     "output_type": "display_data"
    }
   ],
   "source": [
    "data1.Mag.value_counts().plot(kind = \"bar\" , color = \"blue\" , figsize = (30,10),fontsize = 20)"
   ]
  },
  {
   "cell_type": "code",
   "execution_count": 492,
   "id": "e0b183c6",
   "metadata": {},
   "outputs": [
    {
     "data": {
      "text/plain": [
       "<AxesSubplot:>"
      ]
     },
     "execution_count": 492,
     "metadata": {},
     "output_type": "execute_result"
    },
    {
     "data": {
      "image/png": "[encoded data removed]",
      "text/plain": [
       "<Figure size 2160x720 with 1 Axes>"
      ]
     },
     "metadata": {
      "needs_background": "light"
     },
     "output_type": "display_data"
    }
   ],
   "source": [
    "data1.Years.value_counts().plot(kind = \"bar\" , color = \"orange\" , figsize = (30,10),fontsize = 20)"
   ]
  },
  {
   "cell_type": "code",
   "execution_count": 493,
   "id": "6a30289e",
   "metadata": {},
   "outputs": [
    {
     "data": {
      "text/plain": [
       "<AxesSubplot:>"
      ]
     },
     "execution_count": 493,
     "metadata": {},
     "output_type": "execute_result"
    },
    {
     "data": {
      "image/png": "[encoded data removed]",
      "text/plain": [
       "<Figure size 2160x720 with 1 Axes>"
      ]
     },
     "metadata": {
      "needs_background": "light"
     },
     "output_type": "display_data"
    }
   ],
   "source": [
    "data1.Month.value_counts().plot(kind = \"bar\" , color = \"blue\" , figsize = (30,10),fontsize = 20)"
   ]
  },
  {
   "cell_type": "code",
   "execution_count": 494,
   "id": "60ce555b",
   "metadata": {},
   "outputs": [
    {
     "data": {
      "text/plain": [
       "<AxesSubplot:>"
      ]
     },
     "execution_count": 494,
     "metadata": {},
     "output_type": "execute_result"
    },
    {
     "data": {
      "image/png": "[encoded data removed]",
      "text/plain": [
       "<Figure size 2160x720 with 1 Axes>"
      ]
     },
     "metadata": {
      "needs_background": "light"
     },
     "output_type": "display_data"
    }
   ],
   "source": [
    "data1.Day.value_counts().plot(kind = \"bar\" , color = \"grey\" , figsize = (30,10),fontsize = 20)"
   ]
  },
  {
   "cell_type": "code",
   "execution_count": 495,
   "id": "f74e4903",
   "metadata": {},
   "outputs": [
    {
     "data": {
      "text/html": [
       "<div>\n",
       "<style scoped>\n",
       "    .dataframe tbody tr th:only-of-type {\n",
       "        vertical-align: middle;\n",
       "    }\n",
       "\n",
       "    .dataframe tbody tr th {\n",
       "        vertical-align: top;\n",
       "    }\n",
       "\n",
       "    .dataframe thead th {\n",
       "        text-align: right;\n",
       "    }\n",
       "</style>\n",
       "<table border=\"1\" class=\"dataframe\">\n",
       "  <thead>\n",
       "    <tr style=\"text-align: right;\">\n",
       "      <th></th>\n",
       "      <th>Day</th>\n",
       "      <th>Month</th>\n",
       "      <th>Years</th>\n",
       "      <th>Latitude</th>\n",
       "      <th>Longitude</th>\n",
       "      <th>Depth</th>\n",
       "      <th>Mag</th>\n",
       "      <th>Place</th>\n",
       "      <th>Jam</th>\n",
       "      <th>Menit</th>\n",
       "      <th>Detik</th>\n",
       "    </tr>\n",
       "  </thead>\n",
       "  <tbody>\n",
       "    <tr>\n",
       "      <th>0</th>\n",
       "      <td>4</td>\n",
       "      <td>10</td>\n",
       "      <td>2022</td>\n",
       "      <td>-4.9967</td>\n",
       "      <td>104.2793</td>\n",
       "      <td>112.997</td>\n",
       "      <td>4.4</td>\n",
       "      <td>Kotabumi</td>\n",
       "      <td>20</td>\n",
       "      <td>14</td>\n",
       "      <td>43</td>\n",
       "    </tr>\n",
       "    <tr>\n",
       "      <th>1</th>\n",
       "      <td>1</td>\n",
       "      <td>10</td>\n",
       "      <td>2022</td>\n",
       "      <td>-3.8325</td>\n",
       "      <td>101.8353</td>\n",
       "      <td>60.652</td>\n",
       "      <td>4.9</td>\n",
       "      <td>Bengkulu</td>\n",
       "      <td>13</td>\n",
       "      <td>50</td>\n",
       "      <td>16</td>\n",
       "    </tr>\n",
       "    <tr>\n",
       "      <th>2</th>\n",
       "      <td>29</td>\n",
       "      <td>9</td>\n",
       "      <td>2022</td>\n",
       "      <td>-5.4541</td>\n",
       "      <td>102.6805</td>\n",
       "      <td>37.099</td>\n",
       "      <td>4.5</td>\n",
       "      <td>kotabumi</td>\n",
       "      <td>12</td>\n",
       "      <td>56</td>\n",
       "      <td>31</td>\n",
       "    </tr>\n",
       "    <tr>\n",
       "      <th>3</th>\n",
       "      <td>19</td>\n",
       "      <td>9</td>\n",
       "      <td>2022</td>\n",
       "      <td>-5.5071</td>\n",
       "      <td>102.8860</td>\n",
       "      <td>38.085</td>\n",
       "      <td>4.2</td>\n",
       "      <td>Pagar Alam</td>\n",
       "      <td>19</td>\n",
       "      <td>16</td>\n",
       "      <td>25</td>\n",
       "    </tr>\n",
       "    <tr>\n",
       "      <th>4</th>\n",
       "      <td>13</td>\n",
       "      <td>9</td>\n",
       "      <td>2022</td>\n",
       "      <td>-5.6133</td>\n",
       "      <td>104.1844</td>\n",
       "      <td>96.048</td>\n",
       "      <td>4.9</td>\n",
       "      <td>Kotabumi</td>\n",
       "      <td>11</td>\n",
       "      <td>18</td>\n",
       "      <td>3</td>\n",
       "    </tr>\n",
       "  </tbody>\n",
       "</table>\n",
       "</div>"
      ],
      "text/plain": [
       "   Day  Month  Years  Latitude  Longitude    Depth  Mag        Place  Jam  \\\n",
       "0    4     10   2022   -4.9967   104.2793  112.997  4.4     Kotabumi   20   \n",
       "1    1     10   2022   -3.8325   101.8353   60.652  4.9     Bengkulu   13   \n",
       "2   29      9   2022   -5.4541   102.6805   37.099  4.5    kotabumi    12   \n",
       "3   19      9   2022   -5.5071   102.8860   38.085  4.2   Pagar Alam   19   \n",
       "4   13      9   2022   -5.6133   104.1844   96.048  4.9     Kotabumi   11   \n",
       "\n",
       "   Menit  Detik  \n",
       "0     14     43  \n",
       "1     50     16  \n",
       "2     56     31  \n",
       "3     16     25  \n",
       "4     18      3  "
      ]
     },
     "execution_count": 495,
     "metadata": {},
     "output_type": "execute_result"
    }
   ],
   "source": [
    "data1.head()"
   ]
  },
  {
   "cell_type": "code",
   "execution_count": 496,
   "id": "e1849150",
   "metadata": {},
   "outputs": [
    {
     "data": {
      "image/png": "[encoded data removed]",
      "text/plain": [
       "<Figure size 2160x720 with 1 Axes>"
      ]
     },
     "metadata": {
      "needs_background": "light"
     },
     "output_type": "display_data"
    }
   ],
   "source": [
    "data1.Jam.value_counts().plot(kind = \"bar\" , color = \"green\" , figsize = (30,10),fontsize = 20)\n",
    "\n",
    "plt.xlabel(\"Jam\",fontsize=18,color=\"black\")\n",
    "plt.ylabel(\"Frequency\",fontsize=18,color=\"black\")\n",
    "plt.show()"
   ]
  },
  {
   "cell_type": "code",
   "execution_count": 497,
   "id": "2e731416",
   "metadata": {},
   "outputs": [
    {
     "data": {
      "image/png": "[encoded data removed]",
      "text/plain": [
       "<Figure size 2160x720 with 1 Axes>"
      ]
     },
     "metadata": {
      "needs_background": "light"
     },
     "output_type": "display_data"
    }
   ],
   "source": [
    "data1.Menit.value_counts().plot(kind = \"bar\" , color = \"pink\" , figsize = (30,10),fontsize = 20)\n",
    "\n",
    "plt.xlabel(\"Menit\",fontsize=18,color=\"black\")\n",
    "plt.ylabel(\"Frequency\",fontsize=18,color=\"black\")\n",
    "plt.show()"
   ]
  },
  {
   "cell_type": "code",
   "execution_count": 498,
   "id": "1cdffcc6",
   "metadata": {},
   "outputs": [
    {
     "data": {
      "image/png": "[encoded data removed]",
      "text/plain": [
       "<Figure size 2160x720 with 1 Axes>"
      ]
     },
     "metadata": {
      "needs_background": "light"
     },
     "output_type": "display_data"
    }
   ],
   "source": [
    "data1.Detik.value_counts().plot(kind = \"bar\" , color = \"green\" , figsize = (30,10),fontsize = 20)\n",
    "\n",
    "plt.xlabel(\"Detik\",fontsize=18,color=\"black\")\n",
    "plt.ylabel(\"Frequency\",fontsize=18,color=\"black\")\n",
    "plt.show()"
   ]
  },
  {
   "cell_type": "code",
   "execution_count": 499,
   "id": "b84e7c4f",
   "metadata": {},
   "outputs": [
    {
     "data": {
      "text/plain": [
       "<function matplotlib.pyplot.show(close=None, block=None)>"
      ]
     },
     "execution_count": 499,
     "metadata": {},
     "output_type": "execute_result"
    },
    {
     "data": {
      "image/png": "[encoded data removed]",
      "text/plain": [
       "<Figure size 864x288 with 2 Axes>"
      ]
     },
     "metadata": {
      "needs_background": "light"
     },
     "output_type": "display_data"
    }
   ],
   "source": [
    "f = plt.figure(figsize=(12,4))\n",
    "f.add_subplot(1,2,1)\n",
    "data1['Mag'].plot(kind='kde')\n",
    "f.add_subplot(1,2,2)\n",
    "plt.boxplot(data['Mag'])\n",
    "plt.show"
   ]
  },
  {
   "cell_type": "code",
   "execution_count": 500,
   "id": "f8d3099d",
   "metadata": {},
   "outputs": [
    {
     "data": {
      "text/plain": [
       "<AxesSubplot:xlabel='Mag'>"
      ]
     },
     "execution_count": 500,
     "metadata": {},
     "output_type": "execute_result"
    },
    {
     "data": {
      "image/png": "[encoded data removed]",
      "text/plain": [
       "<Figure size 432x288 with 1 Axes>"
      ]
     },
     "metadata": {
      "needs_background": "light"
     },
     "output_type": "display_data"
    }
   ],
   "source": [
    "sns.boxplot(x=data['Mag'])"
   ]
  },
  {
   "cell_type": "code",
   "execution_count": 501,
   "id": "6a648efc",
   "metadata": {},
   "outputs": [
    {
     "data": {
      "image/png": "[encoded data removed]",
      "text/plain": [
       "<Figure size 720x432 with 1 Axes>"
      ]
     },
     "metadata": {
      "needs_background": "light"
     },
     "output_type": "display_data"
    }
   ],
   "source": [
    "fig, ax =plt.subplots(figsize=(10,6))\n",
    "ax.scatter(data['Mag'],data['Depth'])\n",
    "ax.set_xlabel('Mag')\n",
    "ax.set_ylabel('Depth')\n",
    "plt.show()"
   ]
  },
  {
   "cell_type": "code",
   "execution_count": 502,
   "id": "79b8ace4",
   "metadata": {},
   "outputs": [
    {
     "data": {
      "text/html": [
       "<div>\n",
       "<style scoped>\n",
       "    .dataframe tbody tr th:only-of-type {\n",
       "        vertical-align: middle;\n",
       "    }\n",
       "\n",
       "    .dataframe tbody tr th {\n",
       "        vertical-align: top;\n",
       "    }\n",
       "\n",
       "    .dataframe thead th {\n",
       "        text-align: right;\n",
       "    }\n",
       "</style>\n",
       "<table border=\"1\" class=\"dataframe\">\n",
       "  <thead>\n",
       "    <tr style=\"text-align: right;\">\n",
       "      <th></th>\n",
       "      <th>Mag</th>\n",
       "      <th>Depth</th>\n",
       "    </tr>\n",
       "  </thead>\n",
       "  <tbody>\n",
       "    <tr>\n",
       "      <th>Mag</th>\n",
       "      <td>1.000000</td>\n",
       "      <td>-0.134768</td>\n",
       "    </tr>\n",
       "    <tr>\n",
       "      <th>Depth</th>\n",
       "      <td>-0.134768</td>\n",
       "      <td>1.000000</td>\n",
       "    </tr>\n",
       "  </tbody>\n",
       "</table>\n",
       "</div>"
      ],
      "text/plain": [
       "            Mag     Depth\n",
       "Mag    1.000000 -0.134768\n",
       "Depth -0.134768  1.000000"
      ]
     },
     "execution_count": 502,
     "metadata": {},
     "output_type": "execute_result"
    }
   ],
   "source": [
    "data1[['Mag','Depth']].corr()"
   ]
  },
  {
   "cell_type": "code",
   "execution_count": 503,
   "id": "b70faca6",
   "metadata": {},
   "outputs": [
    {
     "data": {
      "text/html": [
       "<div>\n",
       "<style scoped>\n",
       "    .dataframe tbody tr th:only-of-type {\n",
       "        vertical-align: middle;\n",
       "    }\n",
       "\n",
       "    .dataframe tbody tr th {\n",
       "        vertical-align: top;\n",
       "    }\n",
       "\n",
       "    .dataframe thead th {\n",
       "        text-align: right;\n",
       "    }\n",
       "</style>\n",
       "<table border=\"1\" class=\"dataframe\">\n",
       "  <thead>\n",
       "    <tr style=\"text-align: right;\">\n",
       "      <th></th>\n",
       "      <th>Depth</th>\n",
       "      <th>Longitude</th>\n",
       "    </tr>\n",
       "  </thead>\n",
       "  <tbody>\n",
       "    <tr>\n",
       "      <th>Depth</th>\n",
       "      <td>1.000000</td>\n",
       "      <td>0.333538</td>\n",
       "    </tr>\n",
       "    <tr>\n",
       "      <th>Longitude</th>\n",
       "      <td>0.333538</td>\n",
       "      <td>1.000000</td>\n",
       "    </tr>\n",
       "  </tbody>\n",
       "</table>\n",
       "</div>"
      ],
      "text/plain": [
       "              Depth  Longitude\n",
       "Depth      1.000000   0.333538\n",
       "Longitude  0.333538   1.000000"
      ]
     },
     "execution_count": 503,
     "metadata": {},
     "output_type": "execute_result"
    }
   ],
   "source": [
    "data1[['Depth','Longitude']].corr()"
   ]
  },
  {
   "cell_type": "code",
   "execution_count": 504,
   "id": "f7cd93a6",
   "metadata": {},
   "outputs": [
    {
     "data": {
      "text/html": [
       "<div>\n",
       "<style scoped>\n",
       "    .dataframe tbody tr th:only-of-type {\n",
       "        vertical-align: middle;\n",
       "    }\n",
       "\n",
       "    .dataframe tbody tr th {\n",
       "        vertical-align: top;\n",
       "    }\n",
       "\n",
       "    .dataframe thead th {\n",
       "        text-align: right;\n",
       "    }\n",
       "</style>\n",
       "<table border=\"1\" class=\"dataframe\">\n",
       "  <thead>\n",
       "    <tr style=\"text-align: right;\">\n",
       "      <th></th>\n",
       "      <th>Depth</th>\n",
       "      <th>Latitude</th>\n",
       "    </tr>\n",
       "  </thead>\n",
       "  <tbody>\n",
       "    <tr>\n",
       "      <th>Depth</th>\n",
       "      <td>1.000000</td>\n",
       "      <td>0.330352</td>\n",
       "    </tr>\n",
       "    <tr>\n",
       "      <th>Latitude</th>\n",
       "      <td>0.330352</td>\n",
       "      <td>1.000000</td>\n",
       "    </tr>\n",
       "  </tbody>\n",
       "</table>\n",
       "</div>"
      ],
      "text/plain": [
       "             Depth  Latitude\n",
       "Depth     1.000000  0.330352\n",
       "Latitude  0.330352  1.000000"
      ]
     },
     "execution_count": 504,
     "metadata": {},
     "output_type": "execute_result"
    }
   ],
   "source": [
    "data1[['Depth','Latitude']].corr()"
   ]
  },
  {
   "cell_type": "markdown",
   "id": "e6ebd9c9",
   "metadata": {},
   "source": [
    "# LOGISTIC REGRESSION "
   ]
  },
  {
   "cell_type": "code",
   "execution_count": 505,
   "id": "708acf01",
   "metadata": {},
   "outputs": [],
   "source": [
    "import pandas as pd\n",
    "import numpy as np\n",
    "from sklearn.linear_model import LogisticRegression\n",
    "from sklearn.model_selection import train_test_split\n",
    "from sklearn.metrics import accuracy_score"
   ]
  },
  {
   "cell_type": "code",
   "execution_count": 506,
   "id": "bfb1fc54",
   "metadata": {},
   "outputs": [],
   "source": [
    "data2 = pd.read_csv(\"Data KP Gempa Bumi Wilayah Sumatera Selatan Dan Sekitarnya.csv\")\n"
   ]
  },
  {
   "cell_type": "code",
   "execution_count": 507,
   "id": "4e827a02",
   "metadata": {},
   "outputs": [
    {
     "data": {
      "text/html": [
       "<div>\n",
       "<style scoped>\n",
       "    .dataframe tbody tr th:only-of-type {\n",
       "        vertical-align: middle;\n",
       "    }\n",
       "\n",
       "    .dataframe tbody tr th {\n",
       "        vertical-align: top;\n",
       "    }\n",
       "\n",
       "    .dataframe thead th {\n",
       "        text-align: right;\n",
       "    }\n",
       "</style>\n",
       "<table border=\"1\" class=\"dataframe\">\n",
       "  <thead>\n",
       "    <tr style=\"text-align: right;\">\n",
       "      <th></th>\n",
       "      <th>Day</th>\n",
       "      <th>Month</th>\n",
       "      <th>Years</th>\n",
       "      <th>Time</th>\n",
       "      <th>Latitude</th>\n",
       "      <th>Longitude</th>\n",
       "      <th>Depth</th>\n",
       "      <th>Mag</th>\n",
       "      <th>Place</th>\n",
       "    </tr>\n",
       "  </thead>\n",
       "  <tbody>\n",
       "    <tr>\n",
       "      <th>0</th>\n",
       "      <td>4</td>\n",
       "      <td>10</td>\n",
       "      <td>2022</td>\n",
       "      <td>20:14:43</td>\n",
       "      <td>-4.9967</td>\n",
       "      <td>104.2793</td>\n",
       "      <td>112.997</td>\n",
       "      <td>4.40</td>\n",
       "      <td>Kotabumi</td>\n",
       "    </tr>\n",
       "    <tr>\n",
       "      <th>1</th>\n",
       "      <td>1</td>\n",
       "      <td>10</td>\n",
       "      <td>2022</td>\n",
       "      <td>13:50:16</td>\n",
       "      <td>-3.8325</td>\n",
       "      <td>101.8353</td>\n",
       "      <td>60.652</td>\n",
       "      <td>4.90</td>\n",
       "      <td>Bengkulu</td>\n",
       "    </tr>\n",
       "    <tr>\n",
       "      <th>2</th>\n",
       "      <td>29</td>\n",
       "      <td>9</td>\n",
       "      <td>2022</td>\n",
       "      <td>12:56:31</td>\n",
       "      <td>-5.4541</td>\n",
       "      <td>102.6805</td>\n",
       "      <td>37.099</td>\n",
       "      <td>4.50</td>\n",
       "      <td>kotabumi</td>\n",
       "    </tr>\n",
       "    <tr>\n",
       "      <th>3</th>\n",
       "      <td>19</td>\n",
       "      <td>9</td>\n",
       "      <td>2022</td>\n",
       "      <td>19:16:25</td>\n",
       "      <td>-5.5071</td>\n",
       "      <td>102.8860</td>\n",
       "      <td>38.085</td>\n",
       "      <td>4.20</td>\n",
       "      <td>Pagar Alam</td>\n",
       "    </tr>\n",
       "    <tr>\n",
       "      <th>4</th>\n",
       "      <td>13</td>\n",
       "      <td>9</td>\n",
       "      <td>2022</td>\n",
       "      <td>11:18:03</td>\n",
       "      <td>-5.6133</td>\n",
       "      <td>104.1844</td>\n",
       "      <td>96.048</td>\n",
       "      <td>4.90</td>\n",
       "      <td>Kotabumi</td>\n",
       "    </tr>\n",
       "    <tr>\n",
       "      <th>...</th>\n",
       "      <td>...</td>\n",
       "      <td>...</td>\n",
       "      <td>...</td>\n",
       "      <td>...</td>\n",
       "      <td>...</td>\n",
       "      <td>...</td>\n",
       "      <td>...</td>\n",
       "      <td>...</td>\n",
       "      <td>...</td>\n",
       "    </tr>\n",
       "    <tr>\n",
       "      <th>2807</th>\n",
       "      <td>15</td>\n",
       "      <td>4</td>\n",
       "      <td>1916</td>\n",
       "      <td>12:31:43</td>\n",
       "      <td>-4.3380</td>\n",
       "      <td>102.5970</td>\n",
       "      <td>35.000</td>\n",
       "      <td>6.71</td>\n",
       "      <td>Bengkulu</td>\n",
       "    </tr>\n",
       "    <tr>\n",
       "      <th>2808</th>\n",
       "      <td>14</td>\n",
       "      <td>7</td>\n",
       "      <td>1914</td>\n",
       "      <td>3:10:26</td>\n",
       "      <td>-5.3050</td>\n",
       "      <td>102.5790</td>\n",
       "      <td>30.000</td>\n",
       "      <td>6.32</td>\n",
       "      <td>Pagar Alam</td>\n",
       "    </tr>\n",
       "    <tr>\n",
       "      <th>2809</th>\n",
       "      <td>25</td>\n",
       "      <td>6</td>\n",
       "      <td>1914</td>\n",
       "      <td>19:07:25</td>\n",
       "      <td>-4.0120</td>\n",
       "      <td>101.6380</td>\n",
       "      <td>35.000</td>\n",
       "      <td>7.55</td>\n",
       "      <td>Bengkulu</td>\n",
       "    </tr>\n",
       "    <tr>\n",
       "      <th>2810</th>\n",
       "      <td>3</td>\n",
       "      <td>6</td>\n",
       "      <td>1909</td>\n",
       "      <td>18:40:43</td>\n",
       "      <td>-2.7130</td>\n",
       "      <td>101.1880</td>\n",
       "      <td>35.000</td>\n",
       "      <td>7.58</td>\n",
       "      <td>Sungai Penuh</td>\n",
       "    </tr>\n",
       "    <tr>\n",
       "      <th>2811</th>\n",
       "      <td>28</td>\n",
       "      <td>10</td>\n",
       "      <td>1906</td>\n",
       "      <td>15:50:18</td>\n",
       "      <td>-4.3450</td>\n",
       "      <td>101.9850</td>\n",
       "      <td>60.000</td>\n",
       "      <td>6.01</td>\n",
       "      <td>Bengkulu</td>\n",
       "    </tr>\n",
       "  </tbody>\n",
       "</table>\n",
       "<p>2812 rows × 9 columns</p>\n",
       "</div>"
      ],
      "text/plain": [
       "      Day  Month  Years      Time  Latitude  Longitude    Depth   Mag  \\\n",
       "0       4     10   2022  20:14:43   -4.9967   104.2793  112.997  4.40   \n",
       "1       1     10   2022  13:50:16   -3.8325   101.8353   60.652  4.90   \n",
       "2      29      9   2022  12:56:31   -5.4541   102.6805   37.099  4.50   \n",
       "3      19      9   2022  19:16:25   -5.5071   102.8860   38.085  4.20   \n",
       "4      13      9   2022  11:18:03   -5.6133   104.1844   96.048  4.90   \n",
       "...   ...    ...    ...       ...       ...        ...      ...   ...   \n",
       "2807   15      4   1916  12:31:43   -4.3380   102.5970   35.000  6.71   \n",
       "2808   14      7   1914   3:10:26   -5.3050   102.5790   30.000  6.32   \n",
       "2809   25      6   1914  19:07:25   -4.0120   101.6380   35.000  7.55   \n",
       "2810    3      6   1909  18:40:43   -2.7130   101.1880   35.000  7.58   \n",
       "2811   28     10   1906  15:50:18   -4.3450   101.9850   60.000  6.01   \n",
       "\n",
       "             Place  \n",
       "0         Kotabumi  \n",
       "1         Bengkulu  \n",
       "2        kotabumi   \n",
       "3       Pagar Alam  \n",
       "4         Kotabumi  \n",
       "...            ...  \n",
       "2807      Bengkulu  \n",
       "2808    Pagar Alam  \n",
       "2809      Bengkulu  \n",
       "2810  Sungai Penuh  \n",
       "2811      Bengkulu  \n",
       "\n",
       "[2812 rows x 9 columns]"
      ]
     },
     "execution_count": 507,
     "metadata": {},
     "output_type": "execute_result"
    }
   ],
   "source": [
    "data2"
   ]
  },
  {
   "cell_type": "code",
   "execution_count": 508,
   "id": "cfbd40b8",
   "metadata": {},
   "outputs": [],
   "source": [
    "corr =data2.corr()\n"
   ]
  },
  {
   "cell_type": "code",
   "execution_count": 509,
   "id": "4197a2a9",
   "metadata": {},
   "outputs": [
    {
     "data": {
      "text/plain": [
       "<AxesSubplot:>"
      ]
     },
     "execution_count": 509,
     "metadata": {},
     "output_type": "execute_result"
    },
    {
     "data": {
      "image/png": "[encoded data removed]",
      "text/plain": [
       "<Figure size 1080x1080 with 2 Axes>"
      ]
     },
     "metadata": {
      "needs_background": "light"
     },
     "output_type": "display_data"
    }
   ],
   "source": [
    "import matplotlib.pyplot as plt\n",
    "# Heatmap (correlation)\n",
    "sns.set_context('notebook', font_scale=0.8)\n",
    "fig, ax = plt.subplots(figsize=(15,15))\n",
    "sns.heatmap(ax=ax, data=data.corr(), annot=True, fmt= '.2f', cmap='coolwarm')"
   ]
  },
  {
   "cell_type": "code",
   "execution_count": 510,
   "id": "b4bf2f0f",
   "metadata": {},
   "outputs": [
    {
     "data": {
      "image/png": "[encoded data removed]",
      "text/plain": [
       "<Figure size 576x360 with 2 Axes>"
      ]
     },
     "metadata": {
      "needs_background": "light"
     },
     "output_type": "display_data"
    }
   ],
   "source": [
    "plt.subplots(figsize=(8, 5))\n",
    "sns.heatmap(corr, annot=True,cmap ='YlGnBu')\n",
    "\n",
    "plt.show()"
   ]
  },
  {
   "cell_type": "code",
   "execution_count": 511,
   "id": "2270ec7a",
   "metadata": {},
   "outputs": [
    {
     "data": {
      "image/png": "[encoded data removed]",
      "text/plain": [
       "<Figure size 576x360 with 2 Axes>"
      ]
     },
     "metadata": {
      "needs_background": "light"
     },
     "output_type": "display_data"
    }
   ],
   "source": [
    "cols = ['Day', 'Month', 'Years', 'Mag', 'Place', \n",
    "                     'Depth', 'Longitude', 'Latitude']\n",
    "X = data2[cols]\n",
    "\n",
    "plt.subplots(figsize=(8, 5))\n",
    "sns.heatmap(X.corr(), annot=True, cmap=\"RdYlGn\")\n",
    "plt.show()"
   ]
  },
  {
   "cell_type": "code",
   "execution_count": 512,
   "id": "c5ae8fea",
   "metadata": {},
   "outputs": [],
   "source": [
    "minutes = []\n",
    "hours = []\n",
    "seconds = []\n",
    "\n",
    "for t in data2.Time:\n",
    "    t  = t.split(\":\")\n",
    "    minutes.append(t[1])\n",
    "    hours.append(t[0])\n",
    "    seconds.append(t[2])"
   ]
  },
  {
   "cell_type": "code",
   "execution_count": 513,
   "id": "e7e77eb6",
   "metadata": {},
   "outputs": [],
   "source": [
    "data2['Time'] = pd.to_datetime(data2['Time'])"
   ]
  },
  {
   "cell_type": "code",
   "execution_count": 514,
   "id": "5180aae3",
   "metadata": {},
   "outputs": [],
   "source": [
    "data2['Jam'] = data2['Time'].dt.hour\n",
    "data2['Menit'] = data2['Time'].dt.minute\n",
    "data2['Detik'] = data2['Time'].dt.second"
   ]
  },
  {
   "cell_type": "code",
   "execution_count": 515,
   "id": "dafe7b41",
   "metadata": {},
   "outputs": [
    {
     "data": {
      "text/html": [
       "<div>\n",
       "<style scoped>\n",
       "    .dataframe tbody tr th:only-of-type {\n",
       "        vertical-align: middle;\n",
       "    }\n",
       "\n",
       "    .dataframe tbody tr th {\n",
       "        vertical-align: top;\n",
       "    }\n",
       "\n",
       "    .dataframe thead th {\n",
       "        text-align: right;\n",
       "    }\n",
       "</style>\n",
       "<table border=\"1\" class=\"dataframe\">\n",
       "  <thead>\n",
       "    <tr style=\"text-align: right;\">\n",
       "      <th></th>\n",
       "      <th>Day</th>\n",
       "      <th>Month</th>\n",
       "      <th>Years</th>\n",
       "      <th>Latitude</th>\n",
       "      <th>Longitude</th>\n",
       "      <th>Depth</th>\n",
       "      <th>Mag</th>\n",
       "      <th>Place</th>\n",
       "      <th>Jam</th>\n",
       "      <th>Menit</th>\n",
       "      <th>Detik</th>\n",
       "    </tr>\n",
       "  </thead>\n",
       "  <tbody>\n",
       "    <tr>\n",
       "      <th>0</th>\n",
       "      <td>4</td>\n",
       "      <td>10</td>\n",
       "      <td>2022</td>\n",
       "      <td>-4.9967</td>\n",
       "      <td>104.2793</td>\n",
       "      <td>112.997</td>\n",
       "      <td>4.4</td>\n",
       "      <td>Kotabumi</td>\n",
       "      <td>20</td>\n",
       "      <td>14</td>\n",
       "      <td>43</td>\n",
       "    </tr>\n",
       "    <tr>\n",
       "      <th>1</th>\n",
       "      <td>1</td>\n",
       "      <td>10</td>\n",
       "      <td>2022</td>\n",
       "      <td>-3.8325</td>\n",
       "      <td>101.8353</td>\n",
       "      <td>60.652</td>\n",
       "      <td>4.9</td>\n",
       "      <td>Bengkulu</td>\n",
       "      <td>13</td>\n",
       "      <td>50</td>\n",
       "      <td>16</td>\n",
       "    </tr>\n",
       "    <tr>\n",
       "      <th>2</th>\n",
       "      <td>29</td>\n",
       "      <td>9</td>\n",
       "      <td>2022</td>\n",
       "      <td>-5.4541</td>\n",
       "      <td>102.6805</td>\n",
       "      <td>37.099</td>\n",
       "      <td>4.5</td>\n",
       "      <td>kotabumi</td>\n",
       "      <td>12</td>\n",
       "      <td>56</td>\n",
       "      <td>31</td>\n",
       "    </tr>\n",
       "    <tr>\n",
       "      <th>3</th>\n",
       "      <td>19</td>\n",
       "      <td>9</td>\n",
       "      <td>2022</td>\n",
       "      <td>-5.5071</td>\n",
       "      <td>102.8860</td>\n",
       "      <td>38.085</td>\n",
       "      <td>4.2</td>\n",
       "      <td>Pagar Alam</td>\n",
       "      <td>19</td>\n",
       "      <td>16</td>\n",
       "      <td>25</td>\n",
       "    </tr>\n",
       "    <tr>\n",
       "      <th>4</th>\n",
       "      <td>13</td>\n",
       "      <td>9</td>\n",
       "      <td>2022</td>\n",
       "      <td>-5.6133</td>\n",
       "      <td>104.1844</td>\n",
       "      <td>96.048</td>\n",
       "      <td>4.9</td>\n",
       "      <td>Kotabumi</td>\n",
       "      <td>11</td>\n",
       "      <td>18</td>\n",
       "      <td>3</td>\n",
       "    </tr>\n",
       "  </tbody>\n",
       "</table>\n",
       "</div>"
      ],
      "text/plain": [
       "   Day  Month  Years  Latitude  Longitude    Depth  Mag        Place  Jam  \\\n",
       "0    4     10   2022   -4.9967   104.2793  112.997  4.4     Kotabumi   20   \n",
       "1    1     10   2022   -3.8325   101.8353   60.652  4.9     Bengkulu   13   \n",
       "2   29      9   2022   -5.4541   102.6805   37.099  4.5    kotabumi    12   \n",
       "3   19      9   2022   -5.5071   102.8860   38.085  4.2   Pagar Alam   19   \n",
       "4   13      9   2022   -5.6133   104.1844   96.048  4.9     Kotabumi   11   \n",
       "\n",
       "   Menit  Detik  \n",
       "0     14     43  \n",
       "1     50     16  \n",
       "2     56     31  \n",
       "3     16     25  \n",
       "4     18      3  "
      ]
     },
     "execution_count": 515,
     "metadata": {},
     "output_type": "execute_result"
    }
   ],
   "source": [
    "data2.drop(['Time'], axis=1, inplace=True)\n",
    "data2.head()\n"
   ]
  },
  {
   "cell_type": "code",
   "execution_count": 516,
   "id": "e79ba4db",
   "metadata": {},
   "outputs": [],
   "source": [
    "from sklearn.linear_model import LogisticRegression\n",
    "from sklearn.feature_selection import RFE\n",
    "\n",
    "X1 = data2[['Latitude', 'Longitude','Depth','Mag']]\n",
    "y1 = data2[['Place']]\n",
    "\n",
    "# Build a logreg and compute the feature importances\n",
    "model = LogisticRegression()"
   ]
  },
  {
   "cell_type": "code",
   "execution_count": 517,
   "id": "bf72d9b2",
   "metadata": {},
   "outputs": [],
   "source": [
    "X1_train, X1_test, y1_train, y1_test = train_test_split(X1, y1, test_size=0.2, random_state=0)"
   ]
  },
  {
   "cell_type": "code",
   "execution_count": 518,
   "id": "99967144",
   "metadata": {},
   "outputs": [],
   "source": [
    "clf = LogisticRegression()"
   ]
  },
  {
   "cell_type": "code",
   "execution_count": 519,
   "id": "bff24064",
   "metadata": {},
   "outputs": [
    {
     "data": {
      "text/html": [
       "<style>#sk-container-id-13 {color: black;background-color: white;}#sk-container-id-13 pre{padding: 0;}#sk-container-id-13 div.sk-toggleable {background-color: white;}#sk-container-id-13 label.sk-toggleable__label {cursor: pointer;display: block;width: 100%;margin-bottom: 0;padding: 0.3em;box-sizing: border-box;text-align: center;}#sk-container-id-13 label.sk-toggleable__label-arrow:before {content: \"▸\";float: left;margin-right: 0.25em;color: #696969;}#sk-container-id-13 label.sk-toggleable__label-arrow:hover:before {color: black;}#sk-container-id-13 div.sk-estimator:hover label.sk-toggleable__label-arrow:before {color: black;}#sk-container-id-13 div.sk-toggleable__content {max-height: 0;max-width: 0;overflow: hidden;text-align: left;background-color: #f0f8ff;}#sk-container-id-13 div.sk-toggleable__content pre {margin: 0.2em;color: black;border-radius: 0.25em;background-color: #f0f8ff;}#sk-container-id-13 input.sk-toggleable__control:checked~div.sk-toggleable__content {max-height: 200px;max-width: 100%;overflow: auto;}#sk-container-id-13 input.sk-toggleable__control:checked~label.sk-toggleable__label-arrow:before {content: \"▾\";}#sk-container-id-13 div.sk-estimator input.sk-toggleable__control:checked~label.sk-toggleable__label {background-color: #d4ebff;}#sk-container-id-13 div.sk-label input.sk-toggleable__control:checked~label.sk-toggleable__label {background-color: #d4ebff;}#sk-container-id-13 input.sk-hidden--visually {border: 0;clip: rect(1px 1px 1px 1px);clip: rect(1px, 1px, 1px, 1px);height: 1px;margin: -1px;overflow: hidden;padding: 0;position: absolute;width: 1px;}#sk-container-id-13 div.sk-estimator {font-family: monospace;background-color: #f0f8ff;border: 1px dotted black;border-radius: 0.25em;box-sizing: border-box;margin-bottom: 0.5em;}#sk-container-id-13 div.sk-estimator:hover {background-color: #d4ebff;}#sk-container-id-13 div.sk-parallel-item::after {content: \"\";width: 100%;border-bottom: 1px solid gray;flex-grow: 1;}#sk-container-id-13 div.sk-label:hover label.sk-toggleable__label {background-color: #d4ebff;}#sk-container-id-13 div.sk-serial::before {content: \"\";position: absolute;border-left: 1px solid gray;box-sizing: border-box;top: 0;bottom: 0;left: 50%;z-index: 0;}#sk-container-id-13 div.sk-serial {display: flex;flex-direction: column;align-items: center;background-color: white;padding-right: 0.2em;padding-left: 0.2em;position: relative;}#sk-container-id-13 div.sk-item {position: relative;z-index: 1;}#sk-container-id-13 div.sk-parallel {display: flex;align-items: stretch;justify-content: center;background-color: white;position: relative;}#sk-container-id-13 div.sk-item::before, #sk-container-id-13 div.sk-parallel-item::before {content: \"\";position: absolute;border-left: 1px solid gray;box-sizing: border-box;top: 0;bottom: 0;left: 50%;z-index: -1;}#sk-container-id-13 div.sk-parallel-item {display: flex;flex-direction: column;z-index: 1;position: relative;background-color: white;}#sk-container-id-13 div.sk-parallel-item:first-child::after {align-self: flex-end;width: 50%;}#sk-container-id-13 div.sk-parallel-item:last-child::after {align-self: flex-start;width: 50%;}#sk-container-id-13 div.sk-parallel-item:only-child::after {width: 0;}#sk-container-id-13 div.sk-dashed-wrapped {border: 1px dashed gray;margin: 0 0.4em 0.5em 0.4em;box-sizing: border-box;padding-bottom: 0.4em;background-color: white;}#sk-container-id-13 div.sk-label label {font-family: monospace;font-weight: bold;display: inline-block;line-height: 1.2em;}#sk-container-id-13 div.sk-label-container {text-align: center;}#sk-container-id-13 div.sk-container {/* jupyter's `normalize.less` sets `[hidden] { display: none; }` but bootstrap.min.css set `[hidden] { display: none !important; }` so we also need the `!important` here to be able to override the default hidden behavior on the sphinx rendered scikit-learn.org. See: https://github.com/scikit-learn/scikit-learn/issues/21755 */display: inline-block !important;position: relative;}#sk-container-id-13 div.sk-text-repr-fallback {display: none;}</style><div id=\"sk-container-id-13\" class=\"sk-top-container\"><div class=\"sk-text-repr-fallback\"><pre>LogisticRegression()</pre><b>In a Jupyter environment, please rerun this cell to show the HTML representation or trust the notebook. <br />On GitHub, the HTML representation is unable to render, please try loading this page with nbviewer.org.</b></div><div class=\"sk-container\" hidden><div class=\"sk-item\"><div class=\"sk-estimator sk-toggleable\"><input class=\"sk-toggleable__control sk-hidden--visually\" id=\"sk-estimator-id-13\" type=\"checkbox\" checked><label for=\"sk-estimator-id-13\" class=\"sk-toggleable__label sk-toggleable__label-arrow\">LogisticRegression</label><div class=\"sk-toggleable__content\"><pre>LogisticRegression()</pre></div></div></div></div></div>"
      ],
      "text/plain": [
       "LogisticRegression()"
      ]
     },
     "execution_count": 519,
     "metadata": {},
     "output_type": "execute_result"
    }
   ],
   "source": [
    "clf.fit(X1_train, y1_train)"
   ]
  },
  {
   "cell_type": "code",
   "execution_count": 520,
   "id": "149fee56",
   "metadata": {},
   "outputs": [
    {
     "data": {
      "text/html": [
       "<div>\n",
       "<style scoped>\n",
       "    .dataframe tbody tr th:only-of-type {\n",
       "        vertical-align: middle;\n",
       "    }\n",
       "\n",
       "    .dataframe tbody tr th {\n",
       "        vertical-align: top;\n",
       "    }\n",
       "\n",
       "    .dataframe thead th {\n",
       "        text-align: right;\n",
       "    }\n",
       "</style>\n",
       "<table border=\"1\" class=\"dataframe\">\n",
       "  <thead>\n",
       "    <tr style=\"text-align: right;\">\n",
       "      <th></th>\n",
       "      <th>Latitude</th>\n",
       "      <th>Longitude</th>\n",
       "      <th>Depth</th>\n",
       "      <th>Mag</th>\n",
       "    </tr>\n",
       "  </thead>\n",
       "  <tbody>\n",
       "    <tr>\n",
       "      <th>0</th>\n",
       "      <td>-4.9967</td>\n",
       "      <td>104.2793</td>\n",
       "      <td>112.997</td>\n",
       "      <td>4.40</td>\n",
       "    </tr>\n",
       "    <tr>\n",
       "      <th>1</th>\n",
       "      <td>-3.8325</td>\n",
       "      <td>101.8353</td>\n",
       "      <td>60.652</td>\n",
       "      <td>4.90</td>\n",
       "    </tr>\n",
       "    <tr>\n",
       "      <th>2</th>\n",
       "      <td>-5.4541</td>\n",
       "      <td>102.6805</td>\n",
       "      <td>37.099</td>\n",
       "      <td>4.50</td>\n",
       "    </tr>\n",
       "    <tr>\n",
       "      <th>3</th>\n",
       "      <td>-5.5071</td>\n",
       "      <td>102.8860</td>\n",
       "      <td>38.085</td>\n",
       "      <td>4.20</td>\n",
       "    </tr>\n",
       "    <tr>\n",
       "      <th>4</th>\n",
       "      <td>-5.6133</td>\n",
       "      <td>104.1844</td>\n",
       "      <td>96.048</td>\n",
       "      <td>4.90</td>\n",
       "    </tr>\n",
       "    <tr>\n",
       "      <th>...</th>\n",
       "      <td>...</td>\n",
       "      <td>...</td>\n",
       "      <td>...</td>\n",
       "      <td>...</td>\n",
       "    </tr>\n",
       "    <tr>\n",
       "      <th>2807</th>\n",
       "      <td>-4.3380</td>\n",
       "      <td>102.5970</td>\n",
       "      <td>35.000</td>\n",
       "      <td>6.71</td>\n",
       "    </tr>\n",
       "    <tr>\n",
       "      <th>2808</th>\n",
       "      <td>-5.3050</td>\n",
       "      <td>102.5790</td>\n",
       "      <td>30.000</td>\n",
       "      <td>6.32</td>\n",
       "    </tr>\n",
       "    <tr>\n",
       "      <th>2809</th>\n",
       "      <td>-4.0120</td>\n",
       "      <td>101.6380</td>\n",
       "      <td>35.000</td>\n",
       "      <td>7.55</td>\n",
       "    </tr>\n",
       "    <tr>\n",
       "      <th>2810</th>\n",
       "      <td>-2.7130</td>\n",
       "      <td>101.1880</td>\n",
       "      <td>35.000</td>\n",
       "      <td>7.58</td>\n",
       "    </tr>\n",
       "    <tr>\n",
       "      <th>2811</th>\n",
       "      <td>-4.3450</td>\n",
       "      <td>101.9850</td>\n",
       "      <td>60.000</td>\n",
       "      <td>6.01</td>\n",
       "    </tr>\n",
       "  </tbody>\n",
       "</table>\n",
       "<p>2812 rows × 4 columns</p>\n",
       "</div>"
      ],
      "text/plain": [
       "      Latitude  Longitude    Depth   Mag\n",
       "0      -4.9967   104.2793  112.997  4.40\n",
       "1      -3.8325   101.8353   60.652  4.90\n",
       "2      -5.4541   102.6805   37.099  4.50\n",
       "3      -5.5071   102.8860   38.085  4.20\n",
       "4      -5.6133   104.1844   96.048  4.90\n",
       "...        ...        ...      ...   ...\n",
       "2807   -4.3380   102.5970   35.000  6.71\n",
       "2808   -5.3050   102.5790   30.000  6.32\n",
       "2809   -4.0120   101.6380   35.000  7.55\n",
       "2810   -2.7130   101.1880   35.000  7.58\n",
       "2811   -4.3450   101.9850   60.000  6.01\n",
       "\n",
       "[2812 rows x 4 columns]"
      ]
     },
     "execution_count": 520,
     "metadata": {},
     "output_type": "execute_result"
    }
   ],
   "source": [
    "X1"
   ]
  },
  {
   "cell_type": "code",
   "execution_count": 521,
   "id": "bf6b12eb",
   "metadata": {},
   "outputs": [
    {
     "data": {
      "text/html": [
       "<div>\n",
       "<style scoped>\n",
       "    .dataframe tbody tr th:only-of-type {\n",
       "        vertical-align: middle;\n",
       "    }\n",
       "\n",
       "    .dataframe tbody tr th {\n",
       "        vertical-align: top;\n",
       "    }\n",
       "\n",
       "    .dataframe thead th {\n",
       "        text-align: right;\n",
       "    }\n",
       "</style>\n",
       "<table border=\"1\" class=\"dataframe\">\n",
       "  <thead>\n",
       "    <tr style=\"text-align: right;\">\n",
       "      <th></th>\n",
       "      <th>Place</th>\n",
       "    </tr>\n",
       "  </thead>\n",
       "  <tbody>\n",
       "    <tr>\n",
       "      <th>0</th>\n",
       "      <td>Kotabumi</td>\n",
       "    </tr>\n",
       "    <tr>\n",
       "      <th>1</th>\n",
       "      <td>Bengkulu</td>\n",
       "    </tr>\n",
       "    <tr>\n",
       "      <th>2</th>\n",
       "      <td>kotabumi</td>\n",
       "    </tr>\n",
       "    <tr>\n",
       "      <th>3</th>\n",
       "      <td>Pagar Alam</td>\n",
       "    </tr>\n",
       "    <tr>\n",
       "      <th>4</th>\n",
       "      <td>Kotabumi</td>\n",
       "    </tr>\n",
       "    <tr>\n",
       "      <th>...</th>\n",
       "      <td>...</td>\n",
       "    </tr>\n",
       "    <tr>\n",
       "      <th>2807</th>\n",
       "      <td>Bengkulu</td>\n",
       "    </tr>\n",
       "    <tr>\n",
       "      <th>2808</th>\n",
       "      <td>Pagar Alam</td>\n",
       "    </tr>\n",
       "    <tr>\n",
       "      <th>2809</th>\n",
       "      <td>Bengkulu</td>\n",
       "    </tr>\n",
       "    <tr>\n",
       "      <th>2810</th>\n",
       "      <td>Sungai Penuh</td>\n",
       "    </tr>\n",
       "    <tr>\n",
       "      <th>2811</th>\n",
       "      <td>Bengkulu</td>\n",
       "    </tr>\n",
       "  </tbody>\n",
       "</table>\n",
       "<p>2812 rows × 1 columns</p>\n",
       "</div>"
      ],
      "text/plain": [
       "             Place\n",
       "0         Kotabumi\n",
       "1         Bengkulu\n",
       "2        kotabumi \n",
       "3       Pagar Alam\n",
       "4         Kotabumi\n",
       "...            ...\n",
       "2807      Bengkulu\n",
       "2808    Pagar Alam\n",
       "2809      Bengkulu\n",
       "2810  Sungai Penuh\n",
       "2811      Bengkulu\n",
       "\n",
       "[2812 rows x 1 columns]"
      ]
     },
     "execution_count": 521,
     "metadata": {},
     "output_type": "execute_result"
    }
   ],
   "source": [
    "y1"
   ]
  },
  {
   "cell_type": "code",
   "execution_count": 522,
   "id": "2cb00060",
   "metadata": {},
   "outputs": [],
   "source": [
    "y_pred = clf.predict(X1_test)"
   ]
  },
  {
   "cell_type": "code",
   "execution_count": 523,
   "id": "abb3814e",
   "metadata": {},
   "outputs": [
    {
     "name": "stdout",
     "output_type": "stream",
     "text": [
      "Accuracy: 53.82%\n"
     ]
    }
   ],
   "source": [
    "accuracy = accuracy_score(y1_test, y_pred)\n",
    "print(\"Accuracy: {:.2f}%\".format(accuracy * 100))"
   ]
  },
  {
   "cell_type": "code",
   "execution_count": null,
   "id": "e60a6c03",
   "metadata": {},
   "outputs": [],
   "source": []
  },
  {
   "cell_type": "code",
   "execution_count": null,
   "id": "9476026f",
   "metadata": {},
   "outputs": [],
   "source": []
  },
  {
   "cell_type": "code",
   "execution_count": null,
   "id": "65c51f38",
   "metadata": {},
   "outputs": [],
   "source": []
  },
  {
   "cell_type": "code",
   "execution_count": null,
   "id": "77488c2c",
   "metadata": {},
   "outputs": [],
   "source": []
  },
  {
   "cell_type": "code",
   "execution_count": null,
   "id": "8dcbbca4",
   "metadata": {},
   "outputs": [],
   "source": []
  },
  {
   "cell_type": "code",
   "execution_count": null,
   "id": "de434272",
   "metadata": {},
   "outputs": [],
   "source": []
  },
  {
   "cell_type": "code",
   "execution_count": null,
   "id": "6ab0b5a6",
   "metadata": {},
   "outputs": [],
   "source": []
  },
  {
   "cell_type": "code",
   "execution_count": null,
   "id": "678cc979",
   "metadata": {},
   "outputs": [],
   "source": []
  },
  {
   "cell_type": "code",
   "execution_count": null,
   "id": "5c8fae25",
   "metadata": {},
   "outputs": [],
   "source": []
  },
  {
   "cell_type": "code",
   "execution_count": null,
   "id": "2681f9a9",
   "metadata": {},
   "outputs": [],
   "source": []
  },
  {
   "cell_type": "code",
   "execution_count": null,
   "id": "f14b15e0",
   "metadata": {},
   "outputs": [],
   "source": []
  },
  {
   "cell_type": "code",
   "execution_count": null,
   "id": "c3cdfa98",
   "metadata": {},
   "outputs": [],
   "source": []
  },
  {
   "cell_type": "code",
   "execution_count": null,
   "id": "b55f3c58",
   "metadata": {},
   "outputs": [],
   "source": []
  },
  {
   "cell_type": "code",
   "execution_count": null,
   "id": "5a368e51",
   "metadata": {},
   "outputs": [],
   "source": []
  },
  {
   "cell_type": "code",
   "execution_count": null,
   "id": "e9498dc9",
   "metadata": {},
   "outputs": [],
   "source": []
  },
  {
   "cell_type": "code",
   "execution_count": null,
   "id": "8976ebe0",
   "metadata": {},
   "outputs": [],
   "source": []
  },
  {
   "cell_type": "code",
   "execution_count": null,
   "id": "fda11271",
   "metadata": {},
   "outputs": [],
   "source": []
  },
  {
   "cell_type": "code",
   "execution_count": null,
   "id": "c4cf0465",
   "metadata": {},
   "outputs": [],
   "source": []
  },
  {
   "cell_type": "code",
   "execution_count": null,
   "id": "ed71f36b",
   "metadata": {},
   "outputs": [],
   "source": []
  },
  {
   "cell_type": "code",
   "execution_count": null,
   "id": "e157aa54",
   "metadata": {},
   "outputs": [],
   "source": []
  },
  {
   "cell_type": "code",
   "execution_count": null,
   "id": "e13e836a",
   "metadata": {},
   "outputs": [],
   "source": []
  },
  {
   "cell_type": "code",
   "execution_count": null,
   "id": "6aa2f3fa",
   "metadata": {},
   "outputs": [],
   "source": []
  },
  {
   "cell_type": "code",
   "execution_count": null,
   "id": "d27431ef",
   "metadata": {},
   "outputs": [],
   "source": []
  },
  {
   "cell_type": "code",
   "execution_count": null,
   "id": "ba126658",
   "metadata": {},
   "outputs": [],
   "source": []
  },
  {
   "cell_type": "code",
   "execution_count": null,
   "id": "52b1476e",
   "metadata": {},
   "outputs": [],
   "source": []
  },
  {
   "cell_type": "code",
   "execution_count": null,
   "id": "32ea5e2c",
   "metadata": {},
   "outputs": [],
   "source": []
  },
  {
   "cell_type": "code",
   "execution_count": null,
   "id": "b63b1f74",
   "metadata": {},
   "outputs": [],
   "source": []
  },
  {
   "cell_type": "code",
   "execution_count": null,
   "id": "962155c6",
   "metadata": {},
   "outputs": [],
   "source": []
  },
  {
   "cell_type": "code",
   "execution_count": null,
   "id": "e687bd37",
   "metadata": {},
   "outputs": [],
   "source": []
  },
  {
   "cell_type": "code",
   "execution_count": null,
   "id": "7e5a5447",
   "metadata": {},
   "outputs": [],
   "source": []
  },
  {
   "cell_type": "code",
   "execution_count": null,
   "id": "2fca5994",
   "metadata": {},
   "outputs": [],
   "source": []
  },
  {
   "cell_type": "code",
   "execution_count": null,
   "id": "3fd3ef48",
   "metadata": {},
   "outputs": [],
   "source": []
  },
  {
   "cell_type": "code",
   "execution_count": null,
   "id": "e6e70e06",
   "metadata": {},
   "outputs": [],
   "source": []
  },
  {
   "cell_type": "code",
   "execution_count": null,
   "id": "85343a03",
   "metadata": {},
   "outputs": [],
   "source": []
  },
  {
   "cell_type": "code",
   "execution_count": null,
   "id": "d81a4fbc",
   "metadata": {},
   "outputs": [],
   "source": []
  },
  {
   "cell_type": "code",
   "execution_count": null,
   "id": "b3d91ffd",
   "metadata": {},
   "outputs": [],
   "source": []
  },
  {
   "cell_type": "code",
   "execution_count": null,
   "id": "d64be2b5",
   "metadata": {},
   "outputs": [],
   "source": []
  },
  {
   "cell_type": "code",
   "execution_count": null,
   "id": "e26bc70e",
   "metadata": {},
   "outputs": [],
   "source": []
  },
  {
   "cell_type": "code",
   "execution_count": null,
   "id": "13cbcd7f",
   "metadata": {},
   "outputs": [],
   "source": []
  },
  {
   "cell_type": "code",
   "execution_count": null,
   "id": "51e1fe8b",
   "metadata": {},
   "outputs": [],
   "source": []
  },
  {
   "cell_type": "code",
   "execution_count": null,
   "id": "8bd8018a",
   "metadata": {},
   "outputs": [],
   "source": []
  },
  {
   "cell_type": "code",
   "execution_count": null,
   "id": "9745e561",
   "metadata": {},
   "outputs": [],
   "source": []
  },
  {
   "cell_type": "code",
   "execution_count": null,
   "id": "14c20de9",
   "metadata": {},
   "outputs": [],
   "source": []
  },
  {
   "cell_type": "code",
   "execution_count": null,
   "id": "0e82c84f",
   "metadata": {},
   "outputs": [],
   "source": []
  },
  {
   "cell_type": "code",
   "execution_count": null,
   "id": "932baed5",
   "metadata": {},
   "outputs": [],
   "source": []
  },
  {
   "cell_type": "code",
   "execution_count": null,
   "id": "288f1c4b",
   "metadata": {},
   "outputs": [],
   "source": []
  },
  {
   "cell_type": "code",
   "execution_count": null,
   "id": "7f98828d",
   "metadata": {},
   "outputs": [],
   "source": []
  },
  {
   "cell_type": "code",
   "execution_count": null,
   "id": "77faa073",
   "metadata": {},
   "outputs": [],
   "source": []
  },
  {
   "cell_type": "code",
   "execution_count": null,
   "id": "4e450d8a",
   "metadata": {},
   "outputs": [],
   "source": []
  },
  {
   "cell_type": "code",
   "execution_count": null,
   "id": "a81917ad",
   "metadata": {},
   "outputs": [],
   "source": []
  },
  {
   "cell_type": "code",
   "execution_count": null,
   "id": "fcda2098",
   "metadata": {},
   "outputs": [],
   "source": []
  },
  {
   "cell_type": "code",
   "execution_count": null,
   "id": "0645462b",
   "metadata": {},
   "outputs": [],
   "source": []
  },
  {
   "cell_type": "code",
   "execution_count": null,
   "id": "afa5e203",
   "metadata": {},
   "outputs": [],
   "source": []
  },
  {
   "cell_type": "code",
   "execution_count": null,
   "id": "cc3d80e4",
   "metadata": {},
   "outputs": [],
   "source": []
  },
  {
   "cell_type": "code",
   "execution_count": null,
   "id": "f1a3518b",
   "metadata": {},
   "outputs": [],
   "source": []
  },
  {
   "cell_type": "code",
   "execution_count": null,
   "id": "1292e554",
   "metadata": {},
   "outputs": [],
   "source": []
  },
  {
   "cell_type": "code",
   "execution_count": null,
   "id": "6b78745c",
   "metadata": {},
   "outputs": [],
   "source": []
  },
  {
   "cell_type": "code",
   "execution_count": null,
   "id": "f736d3f5",
   "metadata": {},
   "outputs": [],
   "source": []
  },
  {
   "cell_type": "code",
   "execution_count": null,
   "id": "5b0c7abd",
   "metadata": {},
   "outputs": [],
   "source": []
  },
  {
   "cell_type": "code",
   "execution_count": null,
   "id": "ae983358",
   "metadata": {},
   "outputs": [],
   "source": []
  }
 ],
 "metadata": {
  "kernelspec": {
   "display_name": "Python 3 (ipykernel)",
   "language": "python",
   "name": "python3"
  },
  "language_info": {
   "codemirror_mode": {
    "name": "ipython",
    "version": 3
   },
   "file_extension": ".py",
   "mimetype": "text/x-python",
   "name": "python",
   "nbconvert_exporter": "python",
   "pygments_lexer": "ipython3",
   "version": "3.9.7"
  }
 },
 "nbformat": 4,
 "nbformat_minor": 5
}
